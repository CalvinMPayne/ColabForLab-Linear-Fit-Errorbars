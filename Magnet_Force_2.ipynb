{
  "nbformat": 4,
  "nbformat_minor": 0,
  "metadata": {
    "colab": {
      "name": "Magnet Force 2.ipynb",
      "provenance": [],
      "collapsed_sections": []
    },
    "kernelspec": {
      "name": "python3",
      "display_name": "Python 3"
    }
  },
  "cells": [
    {
      "cell_type": "markdown",
      "metadata": {
        "id": "hXXgYfJ4A_KB"
      },
      "source": [
        "# Install and import libraries"
      ]
    },
    {
      "cell_type": "code",
      "metadata": {
        "id": "JhOi40FxA63p",
        "colab": {
          "base_uri": "https://localhost:8080/"
        },
        "outputId": "716e2b0d-fd58-45a5-a048-e01e90c61d8b"
      },
      "source": [
        "!pip install whit-phys-util"
      ],
      "execution_count": 1,
      "outputs": [
        {
          "output_type": "stream",
          "text": [
            "Collecting whit-phys-util\n",
            "  Downloading https://files.pythonhosted.org/packages/bc/96/45e054df5ed68633c2f401969d81f542d24c2545432eeeaddf42b153b7ad/whit_phys_util-0.2.4-py3-none-any.whl\n",
            "Collecting python-dotenv>=0.10.4\n",
            "  Downloading https://files.pythonhosted.org/packages/26/1f/ae3d06ec877df31f49448d24eee7198549edae2af00da60c85dad93e343f/python_dotenv-0.17.1-py2.py3-none-any.whl\n",
            "Collecting pydantic>=1.7.3\n",
            "\u001b[?25l  Downloading https://files.pythonhosted.org/packages/2b/a3/0ffdb6c63f45f10d19b8e8b32670b22ed089cafb29732f6bf8ce518821fb/pydantic-1.8.1-cp37-cp37m-manylinux2014_x86_64.whl (10.1MB)\n",
            "\u001b[K     |████████████████████████████████| 10.1MB 475kB/s \n",
            "\u001b[?25hRequirement already satisfied: typing-extensions>=3.7.4.3 in /usr/local/lib/python3.7/dist-packages (from pydantic>=1.7.3->whit-phys-util) (3.7.4.3)\n",
            "Installing collected packages: python-dotenv, pydantic, whit-phys-util\n",
            "Successfully installed pydantic-1.8.1 python-dotenv-0.17.1 whit-phys-util-0.2.4\n"
          ],
          "name": "stdout"
        }
      ]
    },
    {
      "cell_type": "code",
      "metadata": {
        "id": "gu4pXIWjBFv4"
      },
      "source": [
        "import numpy as np\n",
        "import pandas as pd\n",
        "import matplotlib.pyplot as plt\n",
        "import whit_phys_util as buc\n",
        "import scipy.constants as const\n",
        "from scipy.constants import mu_0"
      ],
      "execution_count": 19,
      "outputs": []
    },
    {
      "cell_type": "markdown",
      "metadata": {
        "id": "6TqO6bciBLRU"
      },
      "source": [
        "# Connect to GitHub"
      ]
    },
    {
      "cell_type": "code",
      "metadata": {
        "id": "rtteQW6PBNxP",
        "colab": {
          "base_uri": "https://localhost:8080/"
        },
        "outputId": "d4da844f-f379-45cc-972a-420e2873f365"
      },
      "source": [
        "repo = buc.local_repository(\"https://github.com/WhitworthPhysics/magnetic-force-part-2-CalvinMPayne\")"
      ],
      "execution_count": 37,
      "outputs": [
        {
          "output_type": "stream",
          "text": [
            "Repository exists at this location. Pulling changes from GitHub.\n"
          ],
          "name": "stdout"
        }
      ]
    },
    {
      "cell_type": "markdown",
      "metadata": {
        "id": "mGrhlvz9yhzL"
      },
      "source": [
        "# Equipment and materials\n",
        "| Description | Manufacturer | Model | ID or SN |\n",
        "| ----------- | ------------ | ----- | -------- |\n",
        "| fill in | fill in | fill in | fill in |\n",
        "| fill in | fill in | fill in | fill in |\n",
        "\n",
        "\n",
        "_You should replace the **fill in** entries with appropriate info._"
      ]
    },
    {
      "cell_type": "markdown",
      "metadata": {
        "id": "ltsWR7Gp5rEF"
      },
      "source": [
        "# Theoretical Foundations"
      ]
    },
    {
      "cell_type": "markdown",
      "metadata": {
        "id": "W_go8RCF5wLl"
      },
      "source": [
        "## Draw a qualitatively correct free body diagram for case B"
      ]
    },
    {
      "cell_type": "markdown",
      "metadata": {
        "id": "0f9U8h3R53Ny"
      },
      "source": [
        ""
      ]
    },
    {
      "cell_type": "markdown",
      "metadata": {
        "id": "JaorUSwH54uW"
      },
      "source": [
        "## Write down Newton's second law for case B"
      ]
    },
    {
      "cell_type": "markdown",
      "metadata": {
        "id": "M-oFvI5c5-JA"
      },
      "source": [
        ""
      ]
    },
    {
      "cell_type": "markdown",
      "metadata": {
        "id": "bkCig1Zw5-ks"
      },
      "source": [
        "## Draw a qualitatively correct free body diagram for case C"
      ]
    },
    {
      "cell_type": "markdown",
      "metadata": {
        "id": "2oom0WbF6EQn"
      },
      "source": [
        ""
      ]
    },
    {
      "cell_type": "markdown",
      "metadata": {
        "id": "vsMZILNM6Dma"
      },
      "source": [
        "## Write down Newton's second law for case C"
      ]
    },
    {
      "cell_type": "markdown",
      "metadata": {
        "id": "9wn80ML26JJR"
      },
      "source": [
        ""
      ]
    },
    {
      "cell_type": "markdown",
      "metadata": {
        "id": "EaKmXenX6Isp"
      },
      "source": [
        "## Under what conditions would the magnetic force in case B equal the magnetic force in case C?"
      ]
    },
    {
      "cell_type": "markdown",
      "metadata": {
        "id": "wy3OghLr6Su_"
      },
      "source": [
        ""
      ]
    },
    {
      "cell_type": "markdown",
      "metadata": {
        "id": "KeQMJsWZ52ls"
      },
      "source": [
        "## Write an expression for the magnetic field gradient in terms of $m$, $M$, $g$, $k$, and $\\Delta z$"
      ]
    },
    {
      "cell_type": "markdown",
      "metadata": {
        "id": "MTr9FU7Y6eYO"
      },
      "source": [
        ""
      ]
    },
    {
      "cell_type": "markdown",
      "metadata": {
        "id": "0wZTUBiF6hG8"
      },
      "source": [
        "## Explain **where** your expression for the magnetic field gradient is applicable"
      ]
    },
    {
      "cell_type": "markdown",
      "metadata": {
        "id": "ptlX-cV06ovc"
      },
      "source": [
        ""
      ]
    },
    {
      "cell_type": "markdown",
      "metadata": {
        "id": "NqYSCSfE6p1O"
      },
      "source": [
        "# Experiment measurements"
      ]
    },
    {
      "cell_type": "code",
      "metadata": {
        "id": "agf1Q1Ff5vXm"
      },
      "source": [
        "mass=2.8/5\n",
        "g=9.8"
      ],
      "execution_count": 4,
      "outputs": []
    },
    {
      "cell_type": "markdown",
      "metadata": {
        "id": "J_y7kYzsAM3M"
      },
      "source": [
        "#Measuring the Spring Constant"
      ]
    },
    {
      "cell_type": "code",
      "metadata": {
        "colab": {
          "base_uri": "https://localhost:8080/",
          "height": 235
        },
        "id": "WTQdl7u9AQa_",
        "outputId": "fa139458-7b5d-43c7-f96e-957be21ecc53"
      },
      "source": [
        "df_spring=pd.read_table(\"mass_stretch_data.tsv\")\n",
        "df_spring"
      ],
      "execution_count": 41,
      "outputs": [
        {
          "output_type": "execute_result",
          "data": {
            "text/html": [
              "<div>\n",
              "<style scoped>\n",
              "    .dataframe tbody tr th:only-of-type {\n",
              "        vertical-align: middle;\n",
              "    }\n",
              "\n",
              "    .dataframe tbody tr th {\n",
              "        vertical-align: top;\n",
              "    }\n",
              "\n",
              "    .dataframe thead th {\n",
              "        text-align: right;\n",
              "    }\n",
              "</style>\n",
              "<table border=\"1\" class=\"dataframe\">\n",
              "  <thead>\n",
              "    <tr style=\"text-align: right;\">\n",
              "      <th></th>\n",
              "      <th>Number of Bearings</th>\n",
              "      <th>Position (cm)</th>\n",
              "    </tr>\n",
              "  </thead>\n",
              "  <tbody>\n",
              "    <tr>\n",
              "      <th>0</th>\n",
              "      <td>0</td>\n",
              "      <td>12.0</td>\n",
              "    </tr>\n",
              "    <tr>\n",
              "      <th>1</th>\n",
              "      <td>1</td>\n",
              "      <td>11.2</td>\n",
              "    </tr>\n",
              "    <tr>\n",
              "      <th>2</th>\n",
              "      <td>2</td>\n",
              "      <td>10.4</td>\n",
              "    </tr>\n",
              "    <tr>\n",
              "      <th>3</th>\n",
              "      <td>3</td>\n",
              "      <td>9.6</td>\n",
              "    </tr>\n",
              "    <tr>\n",
              "      <th>4</th>\n",
              "      <td>4</td>\n",
              "      <td>9.3</td>\n",
              "    </tr>\n",
              "    <tr>\n",
              "      <th>5</th>\n",
              "      <td>5</td>\n",
              "      <td>8.7</td>\n",
              "    </tr>\n",
              "  </tbody>\n",
              "</table>\n",
              "</div>"
            ],
            "text/plain": [
              "   Number of Bearings  Position (cm)\n",
              "0                   0           12.0\n",
              "1                   1           11.2\n",
              "2                   2           10.4\n",
              "3                   3            9.6\n",
              "4                   4            9.3\n",
              "5                   5            8.7"
            ]
          },
          "metadata": {
            "tags": []
          },
          "execution_count": 41
        }
      ]
    },
    {
      "cell_type": "code",
      "metadata": {
        "id": "zmK_AQiIAiPa"
      },
      "source": [
        "df_spring[\"Weight (mN)\"]=g*mass*df_spring[\"Number of Bearings\"]"
      ],
      "execution_count": 42,
      "outputs": []
    },
    {
      "cell_type": "code",
      "metadata": {
        "colab": {
          "base_uri": "https://localhost:8080/",
          "height": 111
        },
        "id": "GlJYyz-cPTxa",
        "outputId": "c37b2a80-9c4f-4242-9eb2-09395ba25021"
      },
      "source": [
        "fitTable, fitFunc = buc.prettyPolyFit(df_spring['Position (cm)'], df_spring['Weight (mN)'])\n",
        "fitTable"
      ],
      "execution_count": 43,
      "outputs": [
        {
          "output_type": "execute_result",
          "data": {
            "text/html": [
              "<div>\n",
              "<style scoped>\n",
              "    .dataframe tbody tr th:only-of-type {\n",
              "        vertical-align: middle;\n",
              "    }\n",
              "\n",
              "    .dataframe tbody tr th {\n",
              "        vertical-align: top;\n",
              "    }\n",
              "\n",
              "    .dataframe thead th {\n",
              "        text-align: right;\n",
              "    }\n",
              "</style>\n",
              "<table border=\"1\" class=\"dataframe\">\n",
              "  <thead>\n",
              "    <tr style=\"text-align: right;\">\n",
              "      <th></th>\n",
              "      <th>slope</th>\n",
              "      <th>intercept</th>\n",
              "    </tr>\n",
              "  </thead>\n",
              "  <tbody>\n",
              "    <tr>\n",
              "      <th>value</th>\n",
              "      <td>-8.196364</td>\n",
              "      <td>97.322909</td>\n",
              "    </tr>\n",
              "    <tr>\n",
              "      <th>uncertainty</th>\n",
              "      <td>1.126921</td>\n",
              "      <td>11.565267</td>\n",
              "    </tr>\n",
              "  </tbody>\n",
              "</table>\n",
              "</div>"
            ],
            "text/plain": [
              "                slope  intercept\n",
              "value       -8.196364  97.322909\n",
              "uncertainty  1.126921  11.565267"
            ]
          },
          "metadata": {
            "tags": []
          },
          "execution_count": 43
        }
      ]
    },
    {
      "cell_type": "code",
      "metadata": {
        "colab": {
          "base_uri": "https://localhost:8080/",
          "height": 279
        },
        "id": "wXZfUVrSPYYf",
        "outputId": "01a1da07-ab14-4a3d-d8ca-4b680937b98f"
      },
      "source": [
        "fig, ax = plt.subplots()\n",
        "ax.plot(df_spring['Position (cm)'], df_spring['Weight (mN)'], \"*\")\n",
        "ax.set_xlabel(\"Position (cm)\");\n",
        "ax.set_ylabel(\"Weight (mN)\");\n",
        "t_fit = np.linspace(8,13,2);\n",
        "ax.plot(t_fit, fitFunc(t_fit));"
      ],
      "execution_count": 44,
      "outputs": [
        {
          "output_type": "display_data",
          "data": {
            "image/png": "[encoded data removed]",
            "text/plain": [
              "<Figure size 432x288 with 1 Axes>"
            ]
          },
          "metadata": {
            "tags": [],
            "needs_background": "light"
          }
        }
      ]
    },
    {
      "cell_type": "markdown",
      "metadata": {
        "id": "ZlNfhzz7BcvT"
      },
      "source": [
        "#Measuring the Magnetic Dipole moment of the permanent magnet"
      ]
    },
    {
      "cell_type": "code",
      "metadata": {
        "id": "p0MM-Nk-BhTX"
      },
      "source": [
        "z_0=6.626 #mm\n",
        "N = 168\n",
        "R = 0.07"
      ],
      "execution_count": 28,
      "outputs": []
    },
    {
      "cell_type": "code",
      "metadata": {
        "colab": {
          "base_uri": "https://localhost:8080/",
          "height": 235
        },
        "id": "iB_xXibeEIAB",
        "outputId": "0396d4f7-8ec8-43f4-f035-3265b472f9f4"
      },
      "source": [
        "df_dipole=pd.read_table(\"field_stretch_data.tsv\")\n",
        "df_dipole"
      ],
      "execution_count": 11,
      "outputs": [
        {
          "output_type": "execute_result",
          "data": {
            "text/html": [
              "<div>\n",
              "<style scoped>\n",
              "    .dataframe tbody tr th:only-of-type {\n",
              "        vertical-align: middle;\n",
              "    }\n",
              "\n",
              "    .dataframe tbody tr th {\n",
              "        vertical-align: top;\n",
              "    }\n",
              "\n",
              "    .dataframe thead th {\n",
              "        text-align: right;\n",
              "    }\n",
              "</style>\n",
              "<table border=\"1\" class=\"dataframe\">\n",
              "  <thead>\n",
              "    <tr style=\"text-align: right;\">\n",
              "      <th></th>\n",
              "      <th>Current (A)</th>\n",
              "      <th>Position (cm)</th>\n",
              "    </tr>\n",
              "  </thead>\n",
              "  <tbody>\n",
              "    <tr>\n",
              "      <th>0</th>\n",
              "      <td>0.5</td>\n",
              "      <td>7.3</td>\n",
              "    </tr>\n",
              "    <tr>\n",
              "      <th>1</th>\n",
              "      <td>1.0</td>\n",
              "      <td>7.9</td>\n",
              "    </tr>\n",
              "    <tr>\n",
              "      <th>2</th>\n",
              "      <td>1.5</td>\n",
              "      <td>8.4</td>\n",
              "    </tr>\n",
              "    <tr>\n",
              "      <th>3</th>\n",
              "      <td>2.0</td>\n",
              "      <td>9.0</td>\n",
              "    </tr>\n",
              "    <tr>\n",
              "      <th>4</th>\n",
              "      <td>2.5</td>\n",
              "      <td>9.5</td>\n",
              "    </tr>\n",
              "    <tr>\n",
              "      <th>5</th>\n",
              "      <td>3.0</td>\n",
              "      <td>10.2</td>\n",
              "    </tr>\n",
              "  </tbody>\n",
              "</table>\n",
              "</div>"
            ],
            "text/plain": [
              "   Current (A)  Position (cm)\n",
              "0          0.5            7.3\n",
              "1          1.0            7.9\n",
              "2          1.5            8.4\n",
              "3          2.0            9.0\n",
              "4          2.5            9.5\n",
              "5          3.0           10.2"
            ]
          },
          "metadata": {
            "tags": []
          },
          "execution_count": 11
        }
      ]
    },
    {
      "cell_type": "code",
      "metadata": {
        "id": "1d03utCQEhoH"
      },
      "source": [
        "df_dipole[\"Delta z (cm)\"]=df_dipole[\"Position (cm)\"]-z_0"
      ],
      "execution_count": 31,
      "outputs": []
    },
    {
      "cell_type": "code",
      "metadata": {
        "id": "rh2MEbJmESkb"
      },
      "source": [
        "def B(I, z):\n",
        "  z = z/100 # convert z in cm to m\n",
        "  B_in_T = 0.5*mu_0*N*I*R**2/(z**2+R**2)**1.5\n",
        "  return B_in_T*1000 # field in mT\n",
        "def dB(I, z):\n",
        "  z = z/100 # convert z in cm to m\n",
        "  dB_in_T = (-0.5*mu_0*N*I)*(R*2*z/(z**2+R**2)**2.5)\n",
        "  return dB_in_T*1000 # field in mT\n",
        "def B_antihelmholtz(I,z):\n",
        "  return B(I, z-3.5) + B(-I,z+3.5)\n",
        "def dB_antihelmholtz(I,z):\n",
        "  return dB(I, z-3.5) + dB(-I,z+3.5)"
      ],
      "execution_count": 16,
      "outputs": []
    },
    {
      "cell_type": "code",
      "metadata": {
        "colab": {
          "base_uri": "https://localhost:8080/",
          "height": 235
        },
        "id": "yvfIEEIiE-fl",
        "outputId": "9c12c90a-c905-4757-8c83-f3224627f3d1"
      },
      "source": [
        "df_dipole[\"Mag Field Gradiant (T/cm)\"]=dB_antihelmholtz(df_dipole[\"Current (A)\"],df_dipole[\"Delta z\"])\n",
        "df_dipole"
      ],
      "execution_count": 32,
      "outputs": [
        {
          "output_type": "execute_result",
          "data": {
            "text/html": [
              "<div>\n",
              "<style scoped>\n",
              "    .dataframe tbody tr th:only-of-type {\n",
              "        vertical-align: middle;\n",
              "    }\n",
              "\n",
              "    .dataframe tbody tr th {\n",
              "        vertical-align: top;\n",
              "    }\n",
              "\n",
              "    .dataframe thead th {\n",
              "        text-align: right;\n",
              "    }\n",
              "</style>\n",
              "<table border=\"1\" class=\"dataframe\">\n",
              "  <thead>\n",
              "    <tr style=\"text-align: right;\">\n",
              "      <th></th>\n",
              "      <th>Current (A)</th>\n",
              "      <th>Position (cm)</th>\n",
              "      <th>Delta z</th>\n",
              "      <th>Mag Field Gradiant (T/cm)</th>\n",
              "      <th>Delta z (cm)</th>\n",
              "    </tr>\n",
              "  </thead>\n",
              "  <tbody>\n",
              "    <tr>\n",
              "      <th>0</th>\n",
              "      <td>0.5</td>\n",
              "      <td>7.3</td>\n",
              "      <td>-58.96</td>\n",
              "      <td>-0.028020</td>\n",
              "      <td>0.674</td>\n",
              "    </tr>\n",
              "    <tr>\n",
              "      <th>1</th>\n",
              "      <td>1.0</td>\n",
              "      <td>7.9</td>\n",
              "      <td>-58.36</td>\n",
              "      <td>-0.058936</td>\n",
              "      <td>1.274</td>\n",
              "    </tr>\n",
              "    <tr>\n",
              "      <th>2</th>\n",
              "      <td>1.5</td>\n",
              "      <td>8.4</td>\n",
              "      <td>-57.86</td>\n",
              "      <td>-0.092231</td>\n",
              "      <td>1.774</td>\n",
              "    </tr>\n",
              "    <tr>\n",
              "      <th>3</th>\n",
              "      <td>2.0</td>\n",
              "      <td>9.0</td>\n",
              "      <td>-57.26</td>\n",
              "      <td>-0.129452</td>\n",
              "      <td>2.374</td>\n",
              "    </tr>\n",
              "    <tr>\n",
              "      <th>4</th>\n",
              "      <td>2.5</td>\n",
              "      <td>9.5</td>\n",
              "      <td>-56.76</td>\n",
              "      <td>-0.168955</td>\n",
              "      <td>2.874</td>\n",
              "    </tr>\n",
              "    <tr>\n",
              "      <th>5</th>\n",
              "      <td>3.0</td>\n",
              "      <td>10.2</td>\n",
              "      <td>-56.06</td>\n",
              "      <td>-0.215512</td>\n",
              "      <td>3.574</td>\n",
              "    </tr>\n",
              "  </tbody>\n",
              "</table>\n",
              "</div>"
            ],
            "text/plain": [
              "   Current (A)  Position (cm)  Delta z  Mag Field Gradiant (T/cm)  Delta z (cm)\n",
              "0          0.5            7.3   -58.96                  -0.028020         0.674\n",
              "1          1.0            7.9   -58.36                  -0.058936         1.274\n",
              "2          1.5            8.4   -57.86                  -0.092231         1.774\n",
              "3          2.0            9.0   -57.26                  -0.129452         2.374\n",
              "4          2.5            9.5   -56.76                  -0.168955         2.874\n",
              "5          3.0           10.2   -56.06                  -0.215512         3.574"
            ]
          },
          "metadata": {
            "tags": []
          },
          "execution_count": 32
        }
      ]
    },
    {
      "cell_type": "code",
      "metadata": {
        "colab": {
          "base_uri": "https://localhost:8080/",
          "height": 111
        },
        "id": "2FYYWO0CGxmZ",
        "outputId": "ed3fd511-d13c-4fc2-b409-5b5742d42c1e"
      },
      "source": [
        "fitTable, fitFunc = buc.prettyPolyFit(df_dipole['Delta z (cm)'], df_dipole['Mag Field Gradiant (T/cm)'])\n",
        "fitTable"
      ],
      "execution_count": 35,
      "outputs": [
        {
          "output_type": "execute_result",
          "data": {
            "text/html": [
              "<div>\n",
              "<style scoped>\n",
              "    .dataframe tbody tr th:only-of-type {\n",
              "        vertical-align: middle;\n",
              "    }\n",
              "\n",
              "    .dataframe tbody tr th {\n",
              "        vertical-align: top;\n",
              "    }\n",
              "\n",
              "    .dataframe thead th {\n",
              "        text-align: right;\n",
              "    }\n",
              "</style>\n",
              "<table border=\"1\" class=\"dataframe\">\n",
              "  <thead>\n",
              "    <tr style=\"text-align: right;\">\n",
              "      <th></th>\n",
              "      <th>slope</th>\n",
              "      <th>intercept</th>\n",
              "    </tr>\n",
              "  </thead>\n",
              "  <tbody>\n",
              "    <tr>\n",
              "      <th>value</th>\n",
              "      <td>-0.065569</td>\n",
              "      <td>0.021566</td>\n",
              "    </tr>\n",
              "    <tr>\n",
              "      <th>uncertainty</th>\n",
              "      <td>0.003709</td>\n",
              "      <td>0.008551</td>\n",
              "    </tr>\n",
              "  </tbody>\n",
              "</table>\n",
              "</div>"
            ],
            "text/plain": [
              "                slope  intercept\n",
              "value       -0.065569   0.021566\n",
              "uncertainty  0.003709   0.008551"
            ]
          },
          "metadata": {
            "tags": []
          },
          "execution_count": 35
        }
      ]
    },
    {
      "cell_type": "code",
      "metadata": {
        "colab": {
          "base_uri": "https://localhost:8080/",
          "height": 279
        },
        "id": "ZSF2u0jFFvYA",
        "outputId": "30d0b471-d4d3-42fa-dc64-cdab0f3ede62"
      },
      "source": [
        "fig, ax = plt.subplots()\n",
        "ax.plot(df_dipole['Delta z (cm)'], df_dipole['Mag Field Gradiant (T/cm)'], \"*\")\n",
        "ax.set_xlabel(\"Delta z (cm)\");\n",
        "ax.set_ylabel(\"Field Gradiant (T/cm)\");\n",
        "t_fit = np.linspace(0,4,2);\n",
        "ax.plot(t_fit, fitFunc(t_fit));"
      ],
      "execution_count": 36,
      "outputs": [
        {
          "output_type": "display_data",
          "data": {
            "image/png": "[encoded data removed]",
            "text/plain": [
              "<Figure size 432x288 with 1 Axes>"
            ]
          },
          "metadata": {
            "tags": [],
            "needs_background": "light"
          }
        }
      ]
    },
    {
      "cell_type": "code",
      "metadata": {
        "id": "rEkIOsEGGq0I"
      },
      "source": [
        ""
      ],
      "execution_count": null,
      "outputs": []
    },
    {
      "cell_type": "markdown",
      "metadata": {
        "id": "kbBjsDzbJbnL"
      },
      "source": [
        "# Measuring the Mag Field Gradiant for a single coil"
      ]
    },
    {
      "cell_type": "code",
      "metadata": {
        "colab": {
          "base_uri": "https://localhost:8080/",
          "height": 266
        },
        "id": "1LXpqSTHJhNT",
        "outputId": "9540005d-3f08-45b7-daa2-64542e184969"
      },
      "source": [
        "df_map=pd.read_table(\"field_map_data.tsv\")\n",
        "df_map"
      ],
      "execution_count": 39,
      "outputs": [
        {
          "output_type": "execute_result",
          "data": {
            "text/html": [
              "<div>\n",
              "<style scoped>\n",
              "    .dataframe tbody tr th:only-of-type {\n",
              "        vertical-align: middle;\n",
              "    }\n",
              "\n",
              "    .dataframe tbody tr th {\n",
              "        vertical-align: top;\n",
              "    }\n",
              "\n",
              "    .dataframe thead th {\n",
              "        text-align: right;\n",
              "    }\n",
              "</style>\n",
              "<table border=\"1\" class=\"dataframe\">\n",
              "  <thead>\n",
              "    <tr style=\"text-align: right;\">\n",
              "      <th></th>\n",
              "      <th>z (cm)</th>\n",
              "      <th>Rod with no field (cm)</th>\n",
              "      <th>Rod with Field (cm)</th>\n",
              "    </tr>\n",
              "  </thead>\n",
              "  <tbody>\n",
              "    <tr>\n",
              "      <th>0</th>\n",
              "      <td>4.0</td>\n",
              "      <td>10.54</td>\n",
              "      <td>10.57</td>\n",
              "    </tr>\n",
              "    <tr>\n",
              "      <th>1</th>\n",
              "      <td>4.5</td>\n",
              "      <td>10.93</td>\n",
              "      <td>11.70</td>\n",
              "    </tr>\n",
              "    <tr>\n",
              "      <th>2</th>\n",
              "      <td>5.0</td>\n",
              "      <td>11.56</td>\n",
              "      <td>12.52</td>\n",
              "    </tr>\n",
              "    <tr>\n",
              "      <th>3</th>\n",
              "      <td>5.5</td>\n",
              "      <td>12.08</td>\n",
              "      <td>13.35</td>\n",
              "    </tr>\n",
              "    <tr>\n",
              "      <th>4</th>\n",
              "      <td>6.0</td>\n",
              "      <td>12.66</td>\n",
              "      <td>14.01</td>\n",
              "    </tr>\n",
              "    <tr>\n",
              "      <th>5</th>\n",
              "      <td>6.5</td>\n",
              "      <td>13.03</td>\n",
              "      <td>14.01</td>\n",
              "    </tr>\n",
              "    <tr>\n",
              "      <th>6</th>\n",
              "      <td>7.0</td>\n",
              "      <td>13.64</td>\n",
              "      <td>15.30</td>\n",
              "    </tr>\n",
              "  </tbody>\n",
              "</table>\n",
              "</div>"
            ],
            "text/plain": [
              "   z (cm)  Rod with no field (cm)  Rod with Field (cm)\n",
              "0     4.0                   10.54                10.57\n",
              "1     4.5                   10.93                11.70\n",
              "2     5.0                   11.56                12.52\n",
              "3     5.5                   12.08                13.35\n",
              "4     6.0                   12.66                14.01\n",
              "5     6.5                   13.03                14.01\n",
              "6     7.0                   13.64                15.30"
            ]
          },
          "metadata": {
            "tags": []
          },
          "execution_count": 39
        }
      ]
    },
    {
      "cell_type": "code",
      "metadata": {
        "id": "0iF8m9iWOhFX"
      },
      "source": [
        "df_map['Spring Stretch (cm)']=df_map[\"Rod with Field (cm)\"]-df_map[\"Rod with no field (cm)\"]"
      ],
      "execution_count": 40,
      "outputs": []
    },
    {
      "cell_type": "code",
      "metadata": {
        "id": "kdGnoSY2OusH"
      },
      "source": [
        ""
      ],
      "execution_count": null,
      "outputs": []
    }
  ]
}