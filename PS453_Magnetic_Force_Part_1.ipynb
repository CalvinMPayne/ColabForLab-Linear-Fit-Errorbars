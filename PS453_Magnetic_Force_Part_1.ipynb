{
  "nbformat": 4,
  "nbformat_minor": 0,
  "metadata": {
    "colab": {
      "name": "PS453-Magnetic_Force-Part_1.ipynb",
      "provenance": [],
      "collapsed_sections": []
    },
    "kernelspec": {
      "name": "python3",
      "display_name": "Python 3"
    }
  },
  "cells": [
    {
      "cell_type": "markdown",
      "metadata": {
        "id": "0Vi28D97KAkP"
      },
      "source": [
        "# Understanding the force apparatus"
      ]
    },
    {
      "cell_type": "markdown",
      "metadata": {
        "id": "73M2IH88KFt_"
      },
      "source": [
        "Complete the following exercises and answer the questions before you start working with the apparatus. You should do this before you come to lab."
      ]
    },
    {
      "cell_type": "markdown",
      "metadata": {
        "id": "rSIcq8FDKTjf"
      },
      "source": [
        "## Question 1\n",
        "The spring that comes with the magnetic force apparatus is made of copper.  Copper is more expensive than steel so why didn’t it come with a steel spring instead?\n",
        "\n",
        "_An empty Text cell is below this and awaits your answer..._"
      ]
    },
    {
      "cell_type": "markdown",
      "metadata": {
        "id": "9V_TDqAbKdt9"
      },
      "source": [
        "Copper has a higher conductivity and more easier to see an influence with respect"
      ]
    },
    {
      "cell_type": "markdown",
      "metadata": {
        "id": "q7Ip2ZCmKfbp"
      },
      "source": [
        "## Exercise 1\n",
        "* Draw a picture of the spring-suspended magnet when there is no current flowing through the coils and the magnet is at rest. Label this case A.\n",
        "* Next to the first picture, draw a picture of the spring-suspended magnet when there is no current flowing through the coils and the magnet is at rest, but an additional mass $\\Delta M$ has been added to the magnet so the spring has stretched a distance $\\Delta z$. Draw a horizontal dashed line indicating the height of the magnet in case A. Label this second drawing B.\n",
        "* Draw qualitatively correct free body diagrams for cases A and B.\n",
        "\n",
        "_Take a photo of these pictures and diagrams. I recommend the Office Lens app for smartphones. It has a good setting for documents and also lets you pick the resolution (800 by 600 should be fine), crop, rotate, etc. Save this in an image format, not as a PDF. Alternatively, you could sketch this digitally and save as an image. In either case, when you have completed your image ready, edit the following Text cell and select the Insert image icon._\n",
        "\n"
      ]
    },
    {
      "cell_type": "markdown",
      "metadata": {
        "id": "ceVJz1HQNx1N"
      },
      "source": [
        ""
      ]
    },
    {
      "cell_type": "markdown",
      "metadata": {
        "id": "Beq-auYsRfkq"
      },
      "source": [
        "## Exercise 2\n",
        "Write down Newton's second law for the free body diagram for case B.\n",
        "\n",
        "_You should use the LaTeX capabilities of Text cells rather than writing on paper, taking an image, and then inserting it._"
      ]
    },
    {
      "cell_type": "markdown",
      "metadata": {
        "id": "DIgZTZE0R5a8"
      },
      "source": [
        "$(m+M)g - \\frac{1}{2} k (\\Delta z+\\Delta Z)^2=0$"
      ]
    },
    {
      "cell_type": "markdown",
      "metadata": {
        "id": "LJhrg2YCR94c"
      },
      "source": [
        "## Exercise 3\n",
        "* Draw a picture of the spring-suspended magnet when the additional mass has been removed, the magnet is at rest, and there is a uniform magnetic field pointing downward.   Suppose the gimbal is stuck so the dipole moment of the permanent magnet is fixed downward.  Draw a horizontal dashed line indicating the height of the magnet in case A.  Label this drawing case C.\n",
        "* Draw a qualitatively correct free body diagram for case C."
      ]
    },
    {
      "cell_type": "markdown",
      "metadata": {
        "id": "ysGB88iZSIlI"
      },
      "source": [
        ""
      ]
    },
    {
      "cell_type": "markdown",
      "metadata": {
        "id": "NVpNO2FPSJDc"
      },
      "source": [
        "## Exercise 4\n",
        "Write down Newton’s second law for the free body diagram for case C."
      ]
    },
    {
      "cell_type": "markdown",
      "metadata": {
        "id": "n1AzZG4qSQRm"
      },
      "source": [
        "$mg - \\frac{1}{2} k (\\Delta z)^2+\\vec m \\cdot\\vec B =0$"
      ]
    },
    {
      "cell_type": "markdown",
      "metadata": {
        "id": "7wEWN9fvSWNT"
      },
      "source": [
        "## Exercise 5\n",
        "* Draw a picture of the spring-suspended magnet when the magnet is at rest, there is a magnetic field pointing downward, and the magnetic field is becoming stronger as you move downward.  Suppose the gimbal is stuck so the dipole moment of the permanent magnet is fixed downward. Draw a horizontal dashed line indicating the height of the magnet in case A.  Label this drawing case D.\n",
        "* Draw a qualitatively correct free body diagram for case D."
      ]
    },
    {
      "cell_type": "markdown",
      "metadata": {
        "id": "kLuCl5i6Su6z"
      },
      "source": [
        ""
      ]
    },
    {
      "cell_type": "markdown",
      "metadata": {
        "id": "e4BQEYCdS5Td"
      },
      "source": [
        "## Exercise 6\n",
        "Write down Newton’s second law for the free body diagram for case D."
      ]
    },
    {
      "cell_type": "markdown",
      "metadata": {
        "id": "7BhKjxz4S_Bk"
      },
      "source": [
        ""
      ]
    },
    {
      "cell_type": "markdown",
      "metadata": {
        "id": "D9aX6Z_xS_yY"
      },
      "source": [
        "## Exercise 7\n",
        "* Draw a picture of the spring-suspended magnet when the magnet is at rest, there is a magnetic field pointing upward, and the magnetic field is becoming stronger as you move downward.  Suppose the gimbal is stuck so the dipole moment of the permanent magnet is fixed downward. Draw a horizontal dashed line indicating the height of the magnet in case A.  Label this drawing case E.\n",
        "* Draw a qualitatively correct free body diagram for case E."
      ]
    },
    {
      "cell_type": "markdown",
      "metadata": {
        "id": "L87SJtNMT7Fx"
      },
      "source": [
        ""
      ]
    },
    {
      "cell_type": "markdown",
      "metadata": {
        "id": "_TQNN7saUg6h"
      },
      "source": [
        "## Exercise 8\n",
        "Write down Newton’s second law for the free body diagram for case E."
      ]
    },
    {
      "cell_type": "markdown",
      "metadata": {
        "id": "GQxCIz9TT7lK"
      },
      "source": [
        "## Exercise 9\n",
        "* Draw a picture of the spring-suspended magnet when the additional mass has been removed, the magnet is at rest, there is a magnetic field pointing downward, and the magnetic field is becoming weaker as you move downward.  Suppose the gimbal is stuck so the dipole moment of the permanent magnet is fixed downward.  Draw a horizontal dashed line indicating the height of the magnet in case A.  Label this drawing case F.\n",
        "* Draw a qualitatively correct free body diagram for case F."
      ]
    },
    {
      "cell_type": "markdown",
      "metadata": {
        "id": "TAf_D5RQUaW6"
      },
      "source": [
        ""
      ]
    },
    {
      "cell_type": "markdown",
      "metadata": {
        "id": "joOnvMbDUa29"
      },
      "source": [
        "## Exercise 10\n",
        "Write down Newton’s second law for the free body diagram for case F."
      ]
    },
    {
      "cell_type": "markdown",
      "metadata": {
        "id": "9aIxKc_BUpRX"
      },
      "source": [
        ""
      ]
    },
    {
      "cell_type": "markdown",
      "metadata": {
        "id": "oYEd0GZYUvRX"
      },
      "source": [
        "## Question 2\n",
        "Suppose the gimbal is now free to rotate.  In which case(s) described above (C through F) will the permanent magnet now point upward?"
      ]
    },
    {
      "cell_type": "markdown",
      "metadata": {
        "id": "1j0imnn0U0cg"
      },
      "source": [
        ""
      ]
    },
    {
      "cell_type": "markdown",
      "metadata": {
        "id": "z39471nOU1H3"
      },
      "source": [
        "## Exercise 11\n",
        "Draw a qualitatively correct free body diagram for each case identified in the previous question where the permanent magnet would point upward if it was free to rotate."
      ]
    },
    {
      "cell_type": "markdown",
      "metadata": {
        "id": "iU4LpIvGVHbW"
      },
      "source": [
        ""
      ]
    },
    {
      "cell_type": "markdown",
      "metadata": {
        "id": "av8tazMqpqKa"
      },
      "source": [
        "# Understanding the coil configurations"
      ]
    },
    {
      "cell_type": "markdown",
      "metadata": {
        "id": "1GJ4iFjdpv9y"
      },
      "source": [
        "The magnetic field due to a single coil set with current $I$, radius $R$, and $N$ turns at the position $z$ relative to the center of the coil is given by:\n",
        "$$B_z = \\frac{\\mu _0 IN}{2}\\frac{R^2}{\\left( z^2 + R^2 \\right)^{3/2}}$$"
      ]
    },
    {
      "cell_type": "code",
      "metadata": {
        "id": "3GANhP7srz38"
      },
      "source": [
        "import numpy as np\n",
        "import pandas as pd\n",
        "import matplotlib.pyplot as plt\n",
        "from scipy.constants import mu_0"
      ],
      "execution_count": 2,
      "outputs": []
    },
    {
      "cell_type": "code",
      "metadata": {
        "id": "GSH1nzKJrIdf"
      },
      "source": [
        "N = 168\n",
        "R = 0.07\n",
        "def B(I, z):\n",
        "  z = z/100 # convert z in cm to m\n",
        "  B_in_T = 0.5*mu_0*N*I*R**2/(z**2+R**2)**1.5\n",
        "  return B_in_T*1000 # field in mT\n",
        "def dB(I, z):\n",
        "  z = z/100 # convert z in cm to m\n",
        "  dB_in_T = (-0.5*mu_0*N*I)*(R*2*z/(z**2+R**2)**2.5)\n",
        "  return dB_in_T*1000 # field in mT"
      ],
      "execution_count": 3,
      "outputs": []
    },
    {
      "cell_type": "markdown",
      "metadata": {
        "id": "9hK8uG6aXCYI"
      },
      "source": [
        "## Single coil set\n",
        "\n"
      ]
    },
    {
      "cell_type": "code",
      "metadata": {
        "colab": {
          "base_uri": "https://localhost:8080/",
          "height": 504
        },
        "id": "2vg02KyQsSQL",
        "outputId": "1f9f5708-5836-4d90-85d2-68f446746a09"
      },
      "source": [
        "fig1, ax1 = plt.subplots(2,figsize=(6,8))\n",
        "z = np.linspace(-3.5,3.5, 100)\n",
        "ax1[0].plot(z, B(1.0, z));\n",
        "ax1[0].set_xlim(-3.5,3.5);\n",
        "ax1[0].set_ylim(0,2);\n",
        "ax1[0].set_xlabel(\"$z$ (cm)\");\n",
        "ax1[0].set_ylabel(\"$B_z$ (mT)\");\n",
        "ax1[1].plot(z, B(1.0, z));\n",
        "ax1[1].set_xlim(-3.5,3.5);\n",
        "ax1[1].set_xlabel(\"$z$ (cm)\");\n",
        "ax1[1].set_ylabel(\"$\\partial B_z/ \\partial z$ (mT/cm)\");"
      ],
      "execution_count": 4,
      "outputs": [
        {
          "output_type": "display_data",
          "data": {
            "image/png": "[encoded data removed]",
            "text/plain": [
              "<Figure size 432x576 with 2 Axes>"
            ]
          },
          "metadata": {
            "tags": [],
            "needs_background": "light"
          }
        }
      ]
    },
    {
      "cell_type": "markdown",
      "metadata": {
        "id": "5RkKLhp3Y1jE"
      },
      "source": [
        "## Helmholtz configuration"
      ]
    },
    {
      "cell_type": "code",
      "metadata": {
        "id": "hkjNqANWY9Yr"
      },
      "source": [
        "def B_helmholtz(I,z):\n",
        "  return B(I, z-3.5) + B(I, z+3.5)\n",
        "def dB_helmholtz(I, z):\n",
        "  return dB(I, z-3.5)+dB(I,z+3.5)"
      ],
      "execution_count": 5,
      "outputs": []
    },
    {
      "cell_type": "code",
      "metadata": {
        "colab": {
          "base_uri": "https://localhost:8080/",
          "height": 504
        },
        "id": "YW1q5BY7ZeGs",
        "outputId": "df72f0f4-c955-4518-dc47-e3c9f1a36a1d"
      },
      "source": [
        "fig2, ax2 = plt.subplots(2,figsize=(6,8))\n",
        "z = np.linspace(-3.5,3.5, 100)\n",
        "ax2[0].plot(z, B_helmholtz(1.0, z));\n",
        "ax2[0].set_xlim(-3.5,3.5);\n",
        "ax2[0].set_ylim(0,2.5);\n",
        "ax2[0].set_xlabel(\"$z$ (cm)\");\n",
        "ax2[0].set_ylabel(\"$B_z$ (mT)\");\n",
        "ax2[1].plot(z, dB_helmholtz(1.0, z));\n",
        "ax2[1].set_xlim(-3.5,3.5);\n",
        "ax2[1].set_xlabel(\"$z$ (cm)\");\n",
        "ax2[1].set_ylabel(\"$\\partial B_z/ \\partial z$ (mT/cm)\");"
      ],
      "execution_count": 6,
      "outputs": [
        {
          "output_type": "display_data",
          "data": {
            "image/png": "[encoded data removed]",
            "text/plain": [
              "<Figure size 432x576 with 2 Axes>"
            ]
          },
          "metadata": {
            "tags": [],
            "needs_background": "light"
          }
        }
      ]
    },
    {
      "cell_type": "markdown",
      "metadata": {
        "id": "8rnHoPMpaJ29"
      },
      "source": [
        "## Anti-Helmholtz configuration"
      ]
    },
    {
      "cell_type": "code",
      "metadata": {
        "id": "EMdDHmbPaN6K"
      },
      "source": [
        "def B_antihelmholtz(I,z):\n",
        "  return B(I, z-3.5) + B(-I,z+3.5)\n",
        "def dB_antihelmholtz(I,z):\n",
        "  return dB(I, z-3.5) + dB(-I,z+3.5)"
      ],
      "execution_count": 7,
      "outputs": []
    },
    {
      "cell_type": "code",
      "metadata": {
        "colab": {
          "base_uri": "https://localhost:8080/",
          "height": 504
        },
        "id": "WdPB4V_RagOS",
        "outputId": "2185fee6-49ac-4bd3-caf5-5e9adf9b2234"
      },
      "source": [
        "fig3, ax3 = plt.subplots(2,figsize=(6,8))\n",
        "z = np.linspace(-3.5,3.5, 100)\n",
        "ax3[0].plot(z, B_antihelmholtz(1.0, z));\n",
        "ax3[0].set_xlim(-3.5,3.5);\n",
        "ax3[0].set_ylim(-1,1);\n",
        "ax3[0].set_xlabel(\"$z$ (cm)\");\n",
        "ax3[0].set_ylabel(\"$B_z$ (mT)\");\n",
        "ax3[1].plot(z, dB_antihelmholtz(1.0, z));\n",
        "ax3[1].set_xlim(-3.5,3.5);\n",
        "ax3[1].set_xlabel(\"$z$ (cm)\");\n",
        "ax3[1].set_ylabel(\"$\\partial B_z/ \\partial z$ (mT/cm)\");"
      ],
      "execution_count": 8,
      "outputs": [
        {
          "output_type": "display_data",
          "data": {
            "image/png": "[encoded data removed]",
            "text/plain": [
              "<Figure size 432x576 with 2 Axes>"
            ]
          },
          "metadata": {
            "tags": [],
            "needs_background": "light"
          }
        }
      ]
    },
    {
      "cell_type": "markdown",
      "metadata": {
        "id": "Px15r3rUbh1P"
      },
      "source": [
        "## Reflection on field and field gradient graphs"
      ]
    },
    {
      "cell_type": "markdown",
      "metadata": {
        "id": "P0IHRxsxbnz8"
      },
      "source": [
        "### Question 3\n",
        "Which configuration (single coil set, Helmholtz, or anti-Helmholtz) most nearly produces a uniform, non-zero magnetic field about $z = 0$?"
      ]
    },
    {
      "cell_type": "markdown",
      "metadata": {
        "id": "53VBDvu6b7hh"
      },
      "source": [
        "Helmholtz since it does not change relatively at z=0. "
      ]
    },
    {
      "cell_type": "markdown",
      "metadata": {
        "id": "o4EjOvTtb8Cu"
      },
      "source": [
        "### Question 4\n",
        "For the configuration identified in the previous question, what is the percent difference between the field at $z = 0$ and $z = 2\\ \\mathrm{cm}$? "
      ]
    },
    {
      "cell_type": "code",
      "metadata": {
        "id": "eVolx3wpSwWU",
        "outputId": "09bdc9a7-a7d5-4233-e942-5d13531e1804",
        "colab": {
          "base_uri": "https://localhost:8080/"
        }
      },
      "source": [
        "HHPercentDiff=np.abs(B_helmholtz(1.0,2)-B_helmholtz(1.0,0))/B_helmholtz(1.0,0)*100\n",
        "HHPercentDiff"
      ],
      "execution_count": 12,
      "outputs": [
        {
          "output_type": "execute_result",
          "data": {
            "text/plain": [
              "0.7009445640786007"
            ]
          },
          "metadata": {
            "tags": []
          },
          "execution_count": 12
        }
      ]
    },
    {
      "cell_type": "markdown",
      "metadata": {
        "id": "dXaLxiHDcSPj"
      },
      "source": [
        "### Question 5\n",
        "Which configuration (single coil set, Helmholtz, or anti-Helmholtz) most nearly produces a uniform, non-zero magnetic field **gradient** about $z = 0$?"
      ]
    },
    {
      "cell_type": "markdown",
      "metadata": {
        "id": "omyVv4zMcgHL"
      },
      "source": [
        "The AntiHelmholtz field has a gradiant field of non-zero- and relatively uniform"
      ]
    },
    {
      "cell_type": "markdown",
      "metadata": {
        "id": "81gBD5mycgm_"
      },
      "source": [
        "### Question 6\n",
        "For the configuration identified in the previous question, what is the percent difference between the field **gradient** at $z = 0$ and $z = 2\\ \\mathrm{cm}$? "
      ]
    },
    {
      "cell_type": "code",
      "metadata": {
        "id": "dAzRk33scqFP",
        "outputId": "d5c5a81a-0e97-4e24-dd0c-7cdd71ba2f98",
        "colab": {
          "base_uri": "https://localhost:8080/"
        }
      },
      "source": [
        "AHHPercentDiff=np.abs(dB_antihelmholtz(1.0,2)-dB_antihelmholtz(1.0,0))/dB_antihelmholtz(1.0,0)*100\n",
        "AHHPercentDiff #This relative to the center however the spacing is very small "
      ],
      "execution_count": 15,
      "outputs": [
        {
          "output_type": "execute_result",
          "data": {
            "text/plain": [
              "25.27993063560151"
            ]
          },
          "metadata": {
            "tags": []
          },
          "execution_count": 15
        }
      ]
    },
    {
      "cell_type": "markdown",
      "metadata": {
        "id": "Y-31Y7mFcsAg"
      },
      "source": [
        "### Question 7\n",
        "Which configuration will produce the greatest force on a permanent magnet placed at $z = 1\\ \\mathrm{cm}$?"
      ]
    },
    {
      "cell_type": "markdown",
      "metadata": {
        "id": "LB3Qrm02c2AP"
      },
      "source": [
        "The Helmholtz configuration since it produces the largest magnetic field at z=1 cm."
      ]
    },
    {
      "cell_type": "markdown",
      "metadata": {
        "id": "9u8un67Hc3Ax"
      },
      "source": [
        "### Question 8\n",
        "Which configuration will produce the least force on a permanent magnet placed at $z = 1\\ \\mathrm{cm}$?"
      ]
    },
    {
      "cell_type": "markdown",
      "metadata": {
        "id": "nac6Xaz6dBtm"
      },
      "source": [
        "The AntiHelmholtz configuartion has a very small positive magnetic field so the force would be the smallest "
      ]
    },
    {
      "cell_type": "markdown",
      "metadata": {
        "id": "QDwld5cXVY7D"
      },
      "source": [
        "# Equipment and materials\n",
        "| Description | Manufacturer | Model | ID or SN |\n",
        "| ----------- | ------------ | ----- | -------- |\n",
        "| Magnetic Force apparatus | TeachSpin | MFI-A | MF670 |\n",
        "| DC power supply (up to 3 A) | Elenco | XP-605 | N/A |\n",
        "| Banana plugs (several) | N/A | N/A | N/A |\n"
      ]
    },
    {
      "cell_type": "markdown",
      "metadata": {
        "id": "Ebd9hqxKeZiZ"
      },
      "source": [
        "# Qualitative observations for the Helmholtz configuration"
      ]
    },
    {
      "cell_type": "markdown",
      "metadata": {
        "id": "WRUyZ5oneops"
      },
      "source": [
        "When the magnet was at $z=0$:\n",
        "The magnet, as current was slowly increasing, turned so that one of the magnets was oriented upward. The spring did not contract.\n",
        "\n",
        "\n",
        "When the magnet was at $z=+2$:\n",
        "The magnet behaved the same when it was at $z=0$. The spring did not contract nor extend. \n",
        "\n",
        "\n",
        "When the magnet was at $z=-2$:\n",
        "The magnet turned up. unlike what has happened before.\n",
        "\n",
        "After flipping the direction of the current.\n",
        "When the magnet is at $z=0$, the magnet flipped and the spring looked liked it contracted a tiny bit. \n",
        "\n",
        "When the magnet is $z=-2$: the spring contracts and the magnet points down. \n",
        "\n",
        "When the magnet is at $z=2$: The magnet points down still and the spring does not change. \n",
        "\n"
      ]
    },
    {
      "cell_type": "markdown",
      "metadata": {
        "id": "jmTrodyOepLd"
      },
      "source": [
        "# Qualitative observations for the anti-Helmholtz configuration"
      ]
    },
    {
      "cell_type": "markdown",
      "metadata": {
        "id": "R0mYP990excC"
      },
      "source": [
        "When the magnet is at $z=0$: the spring contracted and the magnet pointed downward. \n",
        "\n",
        "When the magnet was at $z=+2$ the spring contracted and the magnet pointed down.\n",
        "\n",
        "When the magnet was at $z=-2$ the spring stretched and the magnet pointed up.  \n",
        "\n",
        "After flipping the direction of the current:\n",
        "\n",
        "The magnet at $z=0$ the magnet pointed up and the spring contracted\n",
        "\n",
        "The Magnet at $z=2$ the magnet pointed up and the spring contracted.\n",
        "\n",
        "The magnet at $z=-2$ the magnet pointed down and the spring strectched."
      ]
    }
  ]
}