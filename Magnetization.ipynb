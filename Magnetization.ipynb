{
  "nbformat": 4,
  "nbformat_minor": 0,
  "metadata": {
    "colab": {
      "name": "Magnetization.ipynb",
      "provenance": [],
      "authorship_tag": "ABX9TyP0UBHEK67M3+085YNWbQsn",
      "include_colab_link": true
    },
    "kernelspec": {
      "name": "python3",
      "display_name": "Python 3"
    }
  },
  "cells": [
    {
      "cell_type": "markdown",
      "metadata": {
        "id": "view-in-github",
        "colab_type": "text"
      },
      "source": [
        "<a href=\"https://colab.research.google.com/github/CalvinMPayne/ColabForLab-Linear-Fit-Errorbars/blob/main/Magnetization.ipynb\" target=\"_parent\"><img src=\"https://colab.research.google.com/assets/colab-badge.svg\" alt=\"Open In Colab\"/></a>"
      ]
    },
    {
      "cell_type": "markdown",
      "metadata": {
        "id": "TQez5ZK1g4U_"
      },
      "source": [
        "# Magnetization Lab part 2."
      ]
    },
    {
      "cell_type": "markdown",
      "metadata": {
        "id": "QaJKMIrJfRjh"
      },
      "source": [
        "## Equipment and materials\r\n",
        "| Description | Manufacturer | Model | ID or SN |\r\n",
        "| ----------- | ------------ | ----- | -------- |\r\n",
        "| BK-1972 Power Supply | PASCO | TD-8553 | 001369 |\r\n",
        "| Sigilent Oscilloscope | PASCO | TD-8555 | N/A |\r\n",
        "| Primary Solenoid | Fluke | 117 | 49640102SV | \r\n",
        "| Secondary Solenoid | Fluke | DM7650023 | 002111 |\r\n",
        "| Iron bar | N/A | N/A | N/A |\r\n",
        "|  | N/A | N/A | N/A |"
      ]
    },
    {
      "cell_type": "markdown",
      "metadata": {
        "id": "5Dq9SlX4g0s1"
      },
      "source": [
        "# Analysis"
      ]
    },
    {
      "cell_type": "markdown",
      "metadata": {
        "id": "Hap1aDoHhSJ2"
      },
      "source": [
        "##Import Libraries and Data"
      ]
    },
    {
      "cell_type": "code",
      "metadata": {
        "colab": {
          "base_uri": "https://localhost:8080/"
        },
        "id": "vVA7siuAfIrv",
        "outputId": "98ef4d6e-b8ee-403f-e2ad-c33726b5c763"
      },
      "source": [
        "!pip install whit-phys-util"
      ],
      "execution_count": 3,
      "outputs": [
        {
          "output_type": "stream",
          "text": [
            "Collecting whit-phys-util\n",
            "  Downloading https://files.pythonhosted.org/packages/bc/96/45e054df5ed68633c2f401969d81f542d24c2545432eeeaddf42b153b7ad/whit_phys_util-0.2.4-py3-none-any.whl\n",
            "Collecting pydantic>=1.7.3\n",
            "\u001b[?25l  Downloading https://files.pythonhosted.org/packages/2b/a3/0ffdb6c63f45f10d19b8e8b32670b22ed089cafb29732f6bf8ce518821fb/pydantic-1.8.1-cp37-cp37m-manylinux2014_x86_64.whl (10.1MB)\n",
            "\u001b[K     |████████████████████████████████| 10.1MB 9.0MB/s \n",
            "\u001b[?25hCollecting python-dotenv>=0.10.4\n",
            "  Downloading https://files.pythonhosted.org/packages/32/2e/e4585559237787966aad0f8fd0fc31df1c4c9eb0e62de458c5b6cde954eb/python_dotenv-0.15.0-py2.py3-none-any.whl\n",
            "Requirement already satisfied: typing-extensions>=3.7.4.3 in /usr/local/lib/python3.7/dist-packages (from pydantic>=1.7.3->whit-phys-util) (3.7.4.3)\n",
            "Installing collected packages: pydantic, python-dotenv, whit-phys-util\n",
            "Successfully installed pydantic-1.8.1 python-dotenv-0.15.0 whit-phys-util-0.2.4\n"
          ],
          "name": "stdout"
        }
      ]
    },
    {
      "cell_type": "code",
      "metadata": {
        "colab": {
          "base_uri": "https://localhost:8080/"
        },
        "id": "JBOcuo9vhdgw",
        "outputId": "04663d7d-17b5-4025-bd69-a33d9baf9bd5"
      },
      "source": [
        "import numpy as np\r\n",
        "import pandas as pd\r\n",
        "import matplotlib.pyplot as plt\r\n",
        "import whit_phys_util as buc"
      ],
      "execution_count": 4,
      "outputs": [
        {
          "output_type": "stream",
          "text": [
            "Mounted at /content/drive\n"
          ],
          "name": "stdout"
        }
      ]
    },
    {
      "cell_type": "markdown",
      "metadata": {
        "id": "M-t-YBPzh8gR"
      },
      "source": [
        "##Connect to Github"
      ]
    },
    {
      "cell_type": "code",
      "metadata": {
        "colab": {
          "base_uri": "https://localhost:8080/"
        },
        "id": "-ZtAjZp-h__v",
        "outputId": "ecfd8b3e-7d2a-44b2-87fb-23f8d20f3aa5"
      },
      "source": [
        "repo = buc.local_repository(\"https://github.com/WhitworthPhysics/magnetization-part-1-CalvinMPayne\")"
      ],
      "execution_count": 5,
      "outputs": [
        {
          "output_type": "stream",
          "text": [
            "Cloning repository from GitHub.\n"
          ],
          "name": "stdout"
        }
      ]
    },
    {
      "cell_type": "markdown",
      "metadata": {
        "id": "TGiuXAY-iDcd"
      },
      "source": [
        "## Data import"
      ]
    },
    {
      "cell_type": "code",
      "metadata": {
        "id": "CbN2n5Y3hp1J"
      },
      "source": [
        "df_air=pd.read_csv('data_emf_air.csv')"
      ],
      "execution_count": 6,
      "outputs": []
    },
    {
      "cell_type": "code",
      "metadata": {
        "id": "hh3RDRg3ifTu"
      },
      "source": [
        "df_iron=pd.read_csv('data_emf_iron.csv')"
      ],
      "execution_count": 7,
      "outputs": []
    },
    {
      "cell_type": "markdown",
      "metadata": {
        "id": "3ZsKwV7ijiOI"
      },
      "source": [
        "##Analysis"
      ]
    },
    {
      "cell_type": "markdown",
      "metadata": {
        "id": "Bvt030DNrBQ8"
      },
      "source": [
        "AIR"
      ]
    },
    {
      "cell_type": "code",
      "metadata": {
        "id": "pTooZEQCl0v-"
      },
      "source": [
        "n1=235\r\n",
        "n2=2090\r\n",
        "Area=2*np.pi*(1.7/2)**2"
      ],
      "execution_count": 8,
      "outputs": []
    },
    {
      "cell_type": "code",
      "metadata": {
        "id": "MMBSxfC4jGwP"
      },
      "source": [
        "df_air['H']=n2*df_air['Currents (A)']"
      ],
      "execution_count": 23,
      "outputs": []
    },
    {
      "cell_type": "code",
      "metadata": {
        "id": "fN7b24v7mo3r"
      },
      "source": [
        "df_air['dB0']=df_air['EMF integral (V/s)']/(n2*Area)"
      ],
      "execution_count": 24,
      "outputs": []
    },
    {
      "cell_type": "code",
      "metadata": {
        "id": "3bFbSOi2oQvV"
      },
      "source": [
        "df_air['B0']=0.0"
      ],
      "execution_count": 25,
      "outputs": []
    },
    {
      "cell_type": "code",
      "metadata": {
        "id": "sLME8RN3p9Dx"
      },
      "source": [
        "for i in range(1, df_air['B0'].size):\r\n",
        "  df_air.loc[i, 'B0'] = df_air.loc[i-1, 'B0'] + df_air.loc[i, 'dB0']"
      ],
      "execution_count": 26,
      "outputs": []
    },
    {
      "cell_type": "code",
      "metadata": {
        "colab": {
          "base_uri": "https://localhost:8080/",
          "height": 111
        },
        "id": "wCzM6NA25l_G",
        "outputId": "5e20233f-ea1c-4c3b-f27e-a0a4a9cfa086"
      },
      "source": [
        "fitTable, fitFunc = buc.prettyPolyFit(df_air['B0'], df_air['H'])\r\n",
        "fitTable"
      ],
      "execution_count": 27,
      "outputs": [
        {
          "output_type": "execute_result",
          "data": {
            "text/html": [
              "<div>\n",
              "<style scoped>\n",
              "    .dataframe tbody tr th:only-of-type {\n",
              "        vertical-align: middle;\n",
              "    }\n",
              "\n",
              "    .dataframe tbody tr th {\n",
              "        vertical-align: top;\n",
              "    }\n",
              "\n",
              "    .dataframe thead th {\n",
              "        text-align: right;\n",
              "    }\n",
              "</style>\n",
              "<table border=\"1\" class=\"dataframe\">\n",
              "  <thead>\n",
              "    <tr style=\"text-align: right;\">\n",
              "      <th></th>\n",
              "      <th>slope</th>\n",
              "      <th>intercept</th>\n",
              "    </tr>\n",
              "  </thead>\n",
              "  <tbody>\n",
              "    <tr>\n",
              "      <th>value</th>\n",
              "      <td>1.050994e+07</td>\n",
              "      <td>2784.391837</td>\n",
              "    </tr>\n",
              "    <tr>\n",
              "      <th>uncertainty</th>\n",
              "      <td>3.541109e+07</td>\n",
              "      <td>1120.929107</td>\n",
              "    </tr>\n",
              "  </tbody>\n",
              "</table>\n",
              "</div>"
            ],
            "text/plain": [
              "                    slope    intercept\n",
              "value        1.050994e+07  2784.391837\n",
              "uncertainty  3.541109e+07  1120.929107"
            ]
          },
          "metadata": {
            "tags": []
          },
          "execution_count": 27
        }
      ]
    },
    {
      "cell_type": "code",
      "metadata": {
        "colab": {
          "base_uri": "https://localhost:8080/",
          "height": 279
        },
        "id": "LaaxgQUkqwil",
        "outputId": "656865f2-da39-4ab3-d2f1-0c14a6609b2c"
      },
      "source": [
        "fig, ax = plt.subplots()\r\n",
        "ax.plot(df_air['B0'], df_air['H'], \"*\")\r\n",
        "ax.set_xlabel(\"B0\")\r\n",
        "ax.set_ylabel(\"H\");\r\n",
        "t_fit = np.linspace(0,.0001,2);\r\n",
        "ax.plot(t_fit, fitFunc(t_fit));"
      ],
      "execution_count": 28,
      "outputs": [
        {
          "output_type": "display_data",
          "data": {
            "image/png": "[encoded data removed]",
            "text/plain": [
              "<Figure size 432x288 with 1 Axes>"
            ]
          },
          "metadata": {
            "tags": [],
            "needs_background": "light"
          }
        }
      ]
    },
    {
      "cell_type": "code",
      "metadata": {
        "colab": {
          "base_uri": "https://localhost:8080/"
        },
        "id": "Ukws3aJp5uo_",
        "outputId": "4412e868-1680-4eec-9edd-87b15697a234"
      },
      "source": [
        "print(\"The slope is (%.1f ± %.1f) \" % tuple(fitTable['slope']))\r\n",
        "print(\"The intercept is (%.1f ± %.1f) \" % tuple(fitTable['intercept']))"
      ],
      "execution_count": 22,
      "outputs": [
        {
          "output_type": "stream",
          "text": [
            "The slope is (1181739.9 ± 3981630.3) m/s\n",
            "The intercept is (313.1 ± 126.0) m\n"
          ],
          "name": "stdout"
        }
      ]
    },
    {
      "cell_type": "markdown",
      "metadata": {
        "id": "zRfYYE9T7Ilj"
      },
      "source": [
        "Iron"
      ]
    }
  ]
}