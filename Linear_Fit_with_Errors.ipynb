{
  "nbformat": 4,
  "nbformat_minor": 0,
  "metadata": {
    "colab": {
      "name": "Linear-Fit-with-Errors.ipynb",
      "provenance": []
    },
    "kernelspec": {
      "name": "python3",
      "display_name": "Python 3"
    }
  },
  "cells": [
    {
      "cell_type": "markdown",
      "metadata": {
        "id": "TtZa1YluwlX1"
      },
      "source": [
        "# Install and Import Libraries"
      ]
    },
    {
      "cell_type": "code",
      "metadata": {
        "id": "8OKi2kefwdvC",
        "colab": {
          "base_uri": "https://localhost:8080/"
        },
        "outputId": "b55d4532-6b3e-49a9-b769-4c160920abdf"
      },
      "source": [
        "!pip install whit-phys-util"
      ],
      "execution_count": 4,
      "outputs": [
        {
          "output_type": "stream",
          "text": [
            "Requirement already satisfied: whit-phys-util in /usr/local/lib/python3.6/dist-packages (0.2.3)\n",
            "Requirement already satisfied: python-dotenv>=0.10.4 in /usr/local/lib/python3.6/dist-packages (from whit-phys-util) (0.15.0)\n",
            "Requirement already satisfied: pydantic>=1.7.3 in /usr/local/lib/python3.6/dist-packages (from whit-phys-util) (1.7.3)\n",
            "Requirement already satisfied: dataclasses>=0.6; python_version < \"3.7\" in /usr/local/lib/python3.6/dist-packages (from pydantic>=1.7.3->whit-phys-util) (0.8)\n"
          ],
          "name": "stdout"
        }
      ]
    },
    {
      "cell_type": "code",
      "metadata": {
        "id": "lxJ2YevFwvlA"
      },
      "source": [
        "import numpy as np\r\n",
        "import pandas as pd\r\n",
        "import matplotlib.pyplot as plt\r\n",
        "import whit_phys_util as buc"
      ],
      "execution_count": 5,
      "outputs": []
    },
    {
      "cell_type": "markdown",
      "metadata": {
        "id": "iusPGsbGw3Qv"
      },
      "source": [
        "# Connect to GitHub repository"
      ]
    },
    {
      "cell_type": "code",
      "metadata": {
        "id": "aLTiDgcbw5-5",
        "colab": {
          "base_uri": "https://localhost:8080/"
        },
        "outputId": "45cd0546-ccfc-4dd2-aeec-572882f6da91"
      },
      "source": [
        "repo = buc.local_repository(\"https://github.com/WhitworthPhysics/colab-intro-lesson-4-CalvinMPayne\")"
      ],
      "execution_count": 6,
      "outputs": [
        {
          "output_type": "stream",
          "text": [
            "Repository exists at this location. Pulling changes from GitHub.\n"
          ],
          "name": "stdout"
        }
      ]
    },
    {
      "cell_type": "code",
      "metadata": {
        "id": "IxhNEWuMnyaY",
        "outputId": "f3bef26d-853a-494f-f8b4-6e90cc7291aa",
        "colab": {
          "base_uri": "https://localhost:8080/"
        }
      },
      "source": [
        "repo.pull(verbose=True)"
      ],
      "execution_count": 11,
      "outputs": [
        {
          "output_type": "stream",
          "text": [
            "Updating b77462d..a6d7e82\n",
            "Fast-forward\n",
            " current-vs-voltage-data.csv | 6 ++++++\n",
            " 1 file changed, 6 insertions(+)\n",
            " create mode 100644 current-vs-voltage-data.csv\n",
            "git pull\n",
            "From https://github.com/WhitworthPhysics/colab-intro-lesson-4-CalvinMPayne\n",
            "   b77462d..a6d7e82  main       -> origin/main\n"
          ],
          "name": "stdout"
        }
      ]
    },
    {
      "cell_type": "markdown",
      "metadata": {
        "id": "CQQbGDAmsvyw"
      },
      "source": [
        "# Import Data"
      ]
    },
    {
      "cell_type": "code",
      "metadata": {
        "id": "Y3KY-Ce5suQJ",
        "outputId": "d56b17ec-6d7a-42bd-8832-2713f44bcb69",
        "colab": {
          "base_uri": "https://localhost:8080/",
          "height": 204
        }
      },
      "source": [
        "df = pd.read_csv('current-vs-voltage-data.csv')\r\n",
        "df"
      ],
      "execution_count": 13,
      "outputs": [
        {
          "output_type": "execute_result",
          "data": {
            "text/html": [
              "<div>\n",
              "<style scoped>\n",
              "    .dataframe tbody tr th:only-of-type {\n",
              "        vertical-align: middle;\n",
              "    }\n",
              "\n",
              "    .dataframe tbody tr th {\n",
              "        vertical-align: top;\n",
              "    }\n",
              "\n",
              "    .dataframe thead th {\n",
              "        text-align: right;\n",
              "    }\n",
              "</style>\n",
              "<table border=\"1\" class=\"dataframe\">\n",
              "  <thead>\n",
              "    <tr style=\"text-align: right;\">\n",
              "      <th></th>\n",
              "      <th>Voltage (V)</th>\n",
              "      <th>Current (mA)</th>\n",
              "      <th>Current Uncertainty (mA)</th>\n",
              "    </tr>\n",
              "  </thead>\n",
              "  <tbody>\n",
              "    <tr>\n",
              "      <th>0</th>\n",
              "      <td>1.0</td>\n",
              "      <td>5.3</td>\n",
              "      <td>1.3</td>\n",
              "    </tr>\n",
              "    <tr>\n",
              "      <th>1</th>\n",
              "      <td>2.0</td>\n",
              "      <td>9.8</td>\n",
              "      <td>1.5</td>\n",
              "    </tr>\n",
              "    <tr>\n",
              "      <th>2</th>\n",
              "      <td>3.0</td>\n",
              "      <td>14.7</td>\n",
              "      <td>1.4</td>\n",
              "    </tr>\n",
              "    <tr>\n",
              "      <th>3</th>\n",
              "      <td>4.0</td>\n",
              "      <td>25.2</td>\n",
              "      <td>3.2</td>\n",
              "    </tr>\n",
              "    <tr>\n",
              "      <th>4</th>\n",
              "      <td>5.0</td>\n",
              "      <td>23.6</td>\n",
              "      <td>1.7</td>\n",
              "    </tr>\n",
              "  </tbody>\n",
              "</table>\n",
              "</div>"
            ],
            "text/plain": [
              "   Voltage (V)  Current (mA)  Current Uncertainty (mA)\n",
              "0          1.0           5.3                       1.3\n",
              "1          2.0           9.8                       1.5\n",
              "2          3.0          14.7                       1.4\n",
              "3          4.0          25.2                       3.2\n",
              "4          5.0          23.6                       1.7"
            ]
          },
          "metadata": {
            "tags": []
          },
          "execution_count": 13
        }
      ]
    },
    {
      "cell_type": "markdown",
      "metadata": {
        "id": "7wj1BKdQtz0_"
      },
      "source": [
        "# Data Analysis"
      ]
    },
    {
      "cell_type": "code",
      "metadata": {
        "id": "EXfPotkKwzQh",
        "outputId": "879a182d-4722-495e-a96e-3d9905212be0",
        "colab": {
          "base_uri": "https://localhost:8080/",
          "height": 111
        }
      },
      "source": [
        "fitTable_with_unc, fitFunc_with_unc = buc.prettyPolyFit(df['Voltage (V)'],df['Current (mA)'],yerr=df['Current Uncertainty (mA)'])\r\n",
        "fitTable_with_unc"
      ],
      "execution_count": 21,
      "outputs": [
        {
          "output_type": "execute_result",
          "data": {
            "text/html": [
              "<div>\n",
              "<style scoped>\n",
              "    .dataframe tbody tr th:only-of-type {\n",
              "        vertical-align: middle;\n",
              "    }\n",
              "\n",
              "    .dataframe tbody tr th {\n",
              "        vertical-align: top;\n",
              "    }\n",
              "\n",
              "    .dataframe thead th {\n",
              "        text-align: right;\n",
              "    }\n",
              "</style>\n",
              "<table border=\"1\" class=\"dataframe\">\n",
              "  <thead>\n",
              "    <tr style=\"text-align: right;\">\n",
              "      <th></th>\n",
              "      <th>slope</th>\n",
              "      <th>intercept</th>\n",
              "    </tr>\n",
              "  </thead>\n",
              "  <tbody>\n",
              "    <tr>\n",
              "      <th>value</th>\n",
              "      <td>4.811047</td>\n",
              "      <td>0.466645</td>\n",
              "    </tr>\n",
              "    <tr>\n",
              "      <th>uncertainty</th>\n",
              "      <td>0.527921</td>\n",
              "      <td>1.550880</td>\n",
              "    </tr>\n",
              "  </tbody>\n",
              "</table>\n",
              "</div>"
            ],
            "text/plain": [
              "                slope  intercept\n",
              "value        4.811047   0.466645\n",
              "uncertainty  0.527921   1.550880"
            ]
          },
          "metadata": {
            "tags": []
          },
          "execution_count": 21
        }
      ]
    },
    {
      "cell_type": "code",
      "metadata": {
        "id": "fUxobDOmwqwL",
        "outputId": "5f325738-8ede-4ebf-f4e7-bb5f989c5de8",
        "colab": {
          "base_uri": "https://localhost:8080/",
          "height": 111
        }
      },
      "source": [
        "fitTable_wo_unc, fitFunc_wo_unc = buc.prettyPolyFit(df['Voltage (V)'], df['Current (mA)'])\r\n",
        "fitTable_wo_unc"
      ],
      "execution_count": 20,
      "outputs": [
        {
          "output_type": "execute_result",
          "data": {
            "text/html": [
              "<div>\n",
              "<style scoped>\n",
              "    .dataframe tbody tr th:only-of-type {\n",
              "        vertical-align: middle;\n",
              "    }\n",
              "\n",
              "    .dataframe tbody tr th {\n",
              "        vertical-align: top;\n",
              "    }\n",
              "\n",
              "    .dataframe thead th {\n",
              "        text-align: right;\n",
              "    }\n",
              "</style>\n",
              "<table border=\"1\" class=\"dataframe\">\n",
              "  <thead>\n",
              "    <tr style=\"text-align: right;\">\n",
              "      <th></th>\n",
              "      <th>slope</th>\n",
              "      <th>intercept</th>\n",
              "    </tr>\n",
              "  </thead>\n",
              "  <tbody>\n",
              "    <tr>\n",
              "      <th>value</th>\n",
              "      <td>5.200000</td>\n",
              "      <td>0.120000</td>\n",
              "    </tr>\n",
              "    <tr>\n",
              "      <th>uncertainty</th>\n",
              "      <td>1.870045</td>\n",
              "      <td>6.202236</td>\n",
              "    </tr>\n",
              "  </tbody>\n",
              "</table>\n",
              "</div>"
            ],
            "text/plain": [
              "                slope  intercept\n",
              "value        5.200000   0.120000\n",
              "uncertainty  1.870045   6.202236"
            ]
          },
          "metadata": {
            "tags": []
          },
          "execution_count": 20
        }
      ]
    },
    {
      "cell_type": "code",
      "metadata": {
        "id": "WjRahNoEs1uR",
        "outputId": "0b429865-60e8-4ff5-b649-eec50567d643",
        "colab": {
          "base_uri": "https://localhost:8080/",
          "height": 283
        }
      },
      "source": [
        "fig, ax = plt.subplots()\r\n",
        "ax.plot(df['Voltage (V)'],df['Current (mA)'],\"*\")\r\n",
        "ax.set_xlabel(\"Voltage (V)\");\r\n",
        "ax.set_ylabel(\"Current (mA)\");\r\n",
        "ax.set_xlim(0,6);\r\n",
        "ax.set_ylim(0,30);\r\n",
        "ax.errorbar(df['Voltage (V)'], df['Current (mA)'], yerr=df['Current Uncertainty (mA)'], fmt='s');\r\n",
        "V_fit = np.linspace(0,6,2);\r\n",
        "ax.plot(V_fit, fitFunc_wo_unc(V_fit), label=\"w/o uncertainties\")\r\n",
        "ax.plot(V_fit, fitFunc_with_unc(V_fit), label=\"w/ uncertainties\")\r\n",
        "ax.legend();"
      ],
      "execution_count": 22,
      "outputs": [
        {
          "output_type": "display_data",
          "data": {
            "image/png": "[encoded data removed]",
            "text/plain": [
              "<Figure size 432x288 with 1 Axes>"
            ]
          },
          "metadata": {
            "tags": [],
            "needs_background": "light"
          }
        }
      ]
    },
    {
      "cell_type": "code",
      "metadata": {
        "id": "3Gp9d8Yut7vb"
      },
      "source": [
        "\r\n"
      ],
      "execution_count": null,
      "outputs": []
    }
  ]
}