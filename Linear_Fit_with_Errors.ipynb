{
  "nbformat": 4,
  "nbformat_minor": 0,
  "metadata": {
    "colab": {
      "name": "Linear-Fit-with-Errors.ipynb",
      "provenance": [],
      "toc_visible": true
    },
    "kernelspec": {
      "name": "python3",
      "display_name": "Python 3"
    }
  },
  "cells": [
    {
      "cell_type": "markdown",
      "metadata": {
        "id": "TtZa1YluwlX1"
      },
      "source": [
        "# Install and Import Libraries"
      ]
    },
    {
      "cell_type": "code",
      "metadata": {
        "id": "8OKi2kefwdvC",
        "outputId": "09f3a2d4-7f04-421d-cd9b-153070045a21",
        "colab": {
          "base_uri": "https://localhost:8080/"
        }
      },
      "source": [
        "!pip install whit-phys-util"
      ],
      "execution_count": 1,
      "outputs": [
        {
          "output_type": "stream",
          "text": [
            "Requirement already satisfied: whit-phys-util in /usr/local/lib/python3.6/dist-packages (0.2.3)\n",
            "Requirement already satisfied: python-dotenv>=0.10.4 in /usr/local/lib/python3.6/dist-packages (from whit-phys-util) (0.15.0)\n",
            "Requirement already satisfied: pydantic>=1.7.3 in /usr/local/lib/python3.6/dist-packages (from whit-phys-util) (1.7.3)\n",
            "Requirement already satisfied: dataclasses>=0.6; python_version < \"3.7\" in /usr/local/lib/python3.6/dist-packages (from pydantic>=1.7.3->whit-phys-util) (0.8)\n"
          ],
          "name": "stdout"
        }
      ]
    },
    {
      "cell_type": "code",
      "metadata": {
        "id": "lxJ2YevFwvlA"
      },
      "source": [
        "import numpy as np\r\n",
        "import pandas as pd\r\n",
        "import matplotlib.pyplot as plt\r\n",
        "import whit_phys_util as buc"
      ],
      "execution_count": 2,
      "outputs": []
    },
    {
      "cell_type": "markdown",
      "metadata": {
        "id": "iusPGsbGw3Qv"
      },
      "source": [
        "# Connect to GitHub repository"
      ]
    },
    {
      "cell_type": "code",
      "metadata": {
        "id": "aLTiDgcbw5-5",
        "outputId": "c097c591-b054-4697-f3f9-5f931fd57c8f",
        "colab": {
          "base_uri": "https://localhost:8080/"
        }
      },
      "source": [
        "repo = buc.local_repository(\"https://github.com/WhitworthPhysics/colab-intro-lesson-4-CalvinMPayne\")"
      ],
      "execution_count": 3,
      "outputs": [
        {
          "output_type": "stream",
          "text": [
            "Cloning repository from GitHub.\n"
          ],
          "name": "stdout"
        }
      ]
    },
    {
      "cell_type": "code",
      "metadata": {
        "id": "IxhNEWuMnyaY"
      },
      "source": [
        ""
      ],
      "execution_count": 3,
      "outputs": []
    }
  ]
}