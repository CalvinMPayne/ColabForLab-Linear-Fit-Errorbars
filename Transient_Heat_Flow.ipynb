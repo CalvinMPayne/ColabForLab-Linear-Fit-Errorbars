{
  "nbformat": 4,
  "nbformat_minor": 0,
  "metadata": {
    "colab": {
      "name": "Transient Heat Flow.ipynb",
      "provenance": [],
      "collapsed_sections": []
    },
    "kernelspec": {
      "name": "python3",
      "display_name": "Python 3"
    },
    "language_info": {
      "name": "python"
    }
  },
  "cells": [
    {
      "cell_type": "markdown",
      "metadata": {
        "id": "mGNefC1DKqRH"
      },
      "source": [
        "# Install and import libraries"
      ]
    },
    {
      "cell_type": "code",
      "metadata": {
        "id": "puuMDrO3vSQq",
        "colab": {
          "base_uri": "https://localhost:8080/"
        },
        "outputId": "7af233bf-fbd4-416f-eb49-2f64922f63cf"
      },
      "source": [
        "!pip install whit-phys-util"
      ],
      "execution_count": 21,
      "outputs": [
        {
          "output_type": "stream",
          "text": [
            "Requirement already satisfied: whit-phys-util in /usr/local/lib/python3.7/dist-packages (0.2.4)\n",
            "Requirement already satisfied: python-dotenv>=0.10.4 in /usr/local/lib/python3.7/dist-packages (from whit-phys-util) (0.17.1)\n",
            "Requirement already satisfied: pydantic>=1.7.3 in /usr/local/lib/python3.7/dist-packages (from whit-phys-util) (1.8.1)\n",
            "Requirement already satisfied: typing-extensions>=3.7.4.3 in /usr/local/lib/python3.7/dist-packages (from pydantic>=1.7.3->whit-phys-util) (3.7.4.3)\n"
          ],
          "name": "stdout"
        }
      ]
    },
    {
      "cell_type": "code",
      "metadata": {
        "id": "UIJYsJTQKu5G"
      },
      "source": [
        "import numpy as np\n",
        "import pandas as pd\n",
        "import matplotlib.pyplot as plt\n",
        "import whit_phys_util as buc\n",
        "import math"
      ],
      "execution_count": 39,
      "outputs": []
    },
    {
      "cell_type": "code",
      "metadata": {
        "colab": {
          "base_uri": "https://localhost:8080/"
        },
        "id": "gSnSqhNybL2E",
        "outputId": "5bfbdc86-1154-4d46-e558-847966762491"
      },
      "source": [
        "repo= buc.local_repository(\"https://github.com/WhitworthPhysics/transient-heat-flow-CalvinMPayne\")"
      ],
      "execution_count": 23,
      "outputs": [
        {
          "output_type": "stream",
          "text": [
            "Repository exists at this location. Pulling changes from GitHub.\n"
          ],
          "name": "stdout"
        }
      ]
    },
    {
      "cell_type": "markdown",
      "metadata": {
        "id": "5yQy3KgiKOcz"
      },
      "source": [
        "# Equipment and Materials\n",
        "| Description | Manufacturer | Model | ID or SN |\n",
        "| ----------- | ------------ | ----- | -------- |\n",
        "|2x Thermometer| Fluke | 54 2B |40430763WS|\n",
        "|Thermocouples| Fluke |4048|N/A|\n",
        "|Styrofoam Cups|N/A|N/A|N/A|\n",
        "|Rubber Bands|N/A|N/A|N/A|"
      ]
    },
    {
      "cell_type": "markdown",
      "metadata": {
        "id": "OOwn5w2ZLMEA"
      },
      "source": [
        "# Analysis"
      ]
    },
    {
      "cell_type": "code",
      "metadata": {
        "id": "909G8yuoJs2Q"
      },
      "source": [
        "thicc=3.8*10**-3 #this is in mm\n",
        "basediameter=53.23*10**-3 \n",
        "topdiameter=86.38*10**-3\n",
        "fillline=6.5*10**-2 # this is in cm"
      ],
      "execution_count": 24,
      "outputs": []
    },
    {
      "cell_type": "code",
      "metadata": {
        "id": "4pUP1Wb8LX4n"
      },
      "source": [
        "massdry=7.5 #grams\n",
        "masswet=186.5\n",
        "Water=masswet-massdry"
      ],
      "execution_count": 25,
      "outputs": []
    },
    {
      "cell_type": "code",
      "metadata": {
        "id": "1sjnV8QpbJOV"
      },
      "source": [
        "r_outinit=0.5*(basediameter+topdiameter)\n",
        "r_out=r_outinit-thicc"
      ],
      "execution_count": 26,
      "outputs": []
    },
    {
      "cell_type": "code",
      "metadata": {
        "id": "2KtoEu_Ua_56"
      },
      "source": [
        ""
      ],
      "execution_count": 26,
      "outputs": []
    },
    {
      "cell_type": "code",
      "metadata": {
        "colab": {
          "base_uri": "https://localhost:8080/",
          "height": 545
        },
        "id": "LgQbD7IBbCKv",
        "outputId": "ba62d29b-ef6f-4372-ab1a-bae3b4e319df"
      },
      "source": [
        "df_transientflow=pd.read_csv(\"TransientFlowData.csv\")\n",
        "df_transientflow"
      ],
      "execution_count": 27,
      "outputs": [
        {
          "output_type": "execute_result",
          "data": {
            "text/html": [
              "<div>\n",
              "<style scoped>\n",
              "    .dataframe tbody tr th:only-of-type {\n",
              "        vertical-align: middle;\n",
              "    }\n",
              "\n",
              "    .dataframe tbody tr th {\n",
              "        vertical-align: top;\n",
              "    }\n",
              "\n",
              "    .dataframe thead th {\n",
              "        text-align: right;\n",
              "    }\n",
              "</style>\n",
              "<table border=\"1\" class=\"dataframe\">\n",
              "  <thead>\n",
              "    <tr style=\"text-align: right;\">\n",
              "      <th></th>\n",
              "      <th>Time (min)</th>\n",
              "      <th>Outside Temp (deg C)</th>\n",
              "      <th>Edge T (deg C)</th>\n",
              "      <th>Center T (deg C)</th>\n",
              "    </tr>\n",
              "  </thead>\n",
              "  <tbody>\n",
              "    <tr>\n",
              "      <th>0</th>\n",
              "      <td>0</td>\n",
              "      <td>3.3</td>\n",
              "      <td>84.2</td>\n",
              "      <td>87.0</td>\n",
              "    </tr>\n",
              "    <tr>\n",
              "      <th>1</th>\n",
              "      <td>2</td>\n",
              "      <td>1.1</td>\n",
              "      <td>77.5</td>\n",
              "      <td>80.9</td>\n",
              "    </tr>\n",
              "    <tr>\n",
              "      <th>2</th>\n",
              "      <td>4</td>\n",
              "      <td>1.5</td>\n",
              "      <td>74.2</td>\n",
              "      <td>77.8</td>\n",
              "    </tr>\n",
              "    <tr>\n",
              "      <th>3</th>\n",
              "      <td>6</td>\n",
              "      <td>1.4</td>\n",
              "      <td>71.3</td>\n",
              "      <td>74.9</td>\n",
              "    </tr>\n",
              "    <tr>\n",
              "      <th>4</th>\n",
              "      <td>8</td>\n",
              "      <td>1.4</td>\n",
              "      <td>69.8</td>\n",
              "      <td>71.6</td>\n",
              "    </tr>\n",
              "    <tr>\n",
              "      <th>5</th>\n",
              "      <td>10</td>\n",
              "      <td>1.4</td>\n",
              "      <td>65.4</td>\n",
              "      <td>68.8</td>\n",
              "    </tr>\n",
              "    <tr>\n",
              "      <th>6</th>\n",
              "      <td>12</td>\n",
              "      <td>1.2</td>\n",
              "      <td>62.5</td>\n",
              "      <td>65.9</td>\n",
              "    </tr>\n",
              "    <tr>\n",
              "      <th>7</th>\n",
              "      <td>14</td>\n",
              "      <td>1.1</td>\n",
              "      <td>59.2</td>\n",
              "      <td>62.6</td>\n",
              "    </tr>\n",
              "    <tr>\n",
              "      <th>8</th>\n",
              "      <td>16</td>\n",
              "      <td>1.2</td>\n",
              "      <td>57.6</td>\n",
              "      <td>60.9</td>\n",
              "    </tr>\n",
              "    <tr>\n",
              "      <th>9</th>\n",
              "      <td>18</td>\n",
              "      <td>1.6</td>\n",
              "      <td>54.8</td>\n",
              "      <td>58.1</td>\n",
              "    </tr>\n",
              "    <tr>\n",
              "      <th>10</th>\n",
              "      <td>20</td>\n",
              "      <td>0.8</td>\n",
              "      <td>52.8</td>\n",
              "      <td>55.9</td>\n",
              "    </tr>\n",
              "    <tr>\n",
              "      <th>11</th>\n",
              "      <td>22</td>\n",
              "      <td>0.9</td>\n",
              "      <td>50.9</td>\n",
              "      <td>53.9</td>\n",
              "    </tr>\n",
              "    <tr>\n",
              "      <th>12</th>\n",
              "      <td>24</td>\n",
              "      <td>0.6</td>\n",
              "      <td>48.4</td>\n",
              "      <td>51.2</td>\n",
              "    </tr>\n",
              "    <tr>\n",
              "      <th>13</th>\n",
              "      <td>26</td>\n",
              "      <td>0.8</td>\n",
              "      <td>46.3</td>\n",
              "      <td>49.3</td>\n",
              "    </tr>\n",
              "    <tr>\n",
              "      <th>14</th>\n",
              "      <td>28</td>\n",
              "      <td>0.7</td>\n",
              "      <td>44.3</td>\n",
              "      <td>47.6</td>\n",
              "    </tr>\n",
              "    <tr>\n",
              "      <th>15</th>\n",
              "      <td>30</td>\n",
              "      <td>0.6</td>\n",
              "      <td>42.8</td>\n",
              "      <td>45.6</td>\n",
              "    </tr>\n",
              "  </tbody>\n",
              "</table>\n",
              "</div>"
            ],
            "text/plain": [
              "    Time (min)  Outside Temp (deg C)  Edge T (deg C)   Center T (deg C)\n",
              "0            0                   3.3            84.2               87.0\n",
              "1            2                   1.1            77.5               80.9\n",
              "2            4                   1.5            74.2               77.8\n",
              "3            6                   1.4            71.3               74.9\n",
              "4            8                   1.4            69.8               71.6\n",
              "5           10                   1.4            65.4               68.8\n",
              "6           12                   1.2            62.5               65.9\n",
              "7           14                   1.1            59.2               62.6\n",
              "8           16                   1.2            57.6               60.9\n",
              "9           18                   1.6            54.8               58.1\n",
              "10          20                   0.8            52.8               55.9\n",
              "11          22                   0.9            50.9               53.9\n",
              "12          24                   0.6            48.4               51.2\n",
              "13          26                   0.8            46.3               49.3\n",
              "14          28                   0.7            44.3               47.6\n",
              "15          30                   0.6            42.8               45.6"
            ]
          },
          "metadata": {
            "tags": []
          },
          "execution_count": 27
        }
      ]
    },
    {
      "cell_type": "code",
      "metadata": {
        "id": "bwg9vM2MbvfT"
      },
      "source": [
        "df_transientflow[\"Time (s)\"]=df_transientflow[\"Time (min)\"]*60"
      ],
      "execution_count": 28,
      "outputs": []
    },
    {
      "cell_type": "code",
      "metadata": {
        "colab": {
          "base_uri": "https://localhost:8080/",
          "height": 545
        },
        "id": "fyWtbJWIcKYu",
        "outputId": "cb524e45-c24f-4842-8b7a-9e9507c05c4c"
      },
      "source": [
        "df_transientflow[\"Inside Temp (deg C)\"]=0.5*(df_transientflow[\" Center T (deg C)\"]+df_transientflow[\"Edge T (deg C)\"])\n",
        "df_transientflow"
      ],
      "execution_count": 29,
      "outputs": [
        {
          "output_type": "execute_result",
          "data": {
            "text/html": [
              "<div>\n",
              "<style scoped>\n",
              "    .dataframe tbody tr th:only-of-type {\n",
              "        vertical-align: middle;\n",
              "    }\n",
              "\n",
              "    .dataframe tbody tr th {\n",
              "        vertical-align: top;\n",
              "    }\n",
              "\n",
              "    .dataframe thead th {\n",
              "        text-align: right;\n",
              "    }\n",
              "</style>\n",
              "<table border=\"1\" class=\"dataframe\">\n",
              "  <thead>\n",
              "    <tr style=\"text-align: right;\">\n",
              "      <th></th>\n",
              "      <th>Time (min)</th>\n",
              "      <th>Outside Temp (deg C)</th>\n",
              "      <th>Edge T (deg C)</th>\n",
              "      <th>Center T (deg C)</th>\n",
              "      <th>Time (s)</th>\n",
              "      <th>Inside Temp (deg C)</th>\n",
              "    </tr>\n",
              "  </thead>\n",
              "  <tbody>\n",
              "    <tr>\n",
              "      <th>0</th>\n",
              "      <td>0</td>\n",
              "      <td>3.3</td>\n",
              "      <td>84.2</td>\n",
              "      <td>87.0</td>\n",
              "      <td>0</td>\n",
              "      <td>85.60</td>\n",
              "    </tr>\n",
              "    <tr>\n",
              "      <th>1</th>\n",
              "      <td>2</td>\n",
              "      <td>1.1</td>\n",
              "      <td>77.5</td>\n",
              "      <td>80.9</td>\n",
              "      <td>120</td>\n",
              "      <td>79.20</td>\n",
              "    </tr>\n",
              "    <tr>\n",
              "      <th>2</th>\n",
              "      <td>4</td>\n",
              "      <td>1.5</td>\n",
              "      <td>74.2</td>\n",
              "      <td>77.8</td>\n",
              "      <td>240</td>\n",
              "      <td>76.00</td>\n",
              "    </tr>\n",
              "    <tr>\n",
              "      <th>3</th>\n",
              "      <td>6</td>\n",
              "      <td>1.4</td>\n",
              "      <td>71.3</td>\n",
              "      <td>74.9</td>\n",
              "      <td>360</td>\n",
              "      <td>73.10</td>\n",
              "    </tr>\n",
              "    <tr>\n",
              "      <th>4</th>\n",
              "      <td>8</td>\n",
              "      <td>1.4</td>\n",
              "      <td>69.8</td>\n",
              "      <td>71.6</td>\n",
              "      <td>480</td>\n",
              "      <td>70.70</td>\n",
              "    </tr>\n",
              "    <tr>\n",
              "      <th>5</th>\n",
              "      <td>10</td>\n",
              "      <td>1.4</td>\n",
              "      <td>65.4</td>\n",
              "      <td>68.8</td>\n",
              "      <td>600</td>\n",
              "      <td>67.10</td>\n",
              "    </tr>\n",
              "    <tr>\n",
              "      <th>6</th>\n",
              "      <td>12</td>\n",
              "      <td>1.2</td>\n",
              "      <td>62.5</td>\n",
              "      <td>65.9</td>\n",
              "      <td>720</td>\n",
              "      <td>64.20</td>\n",
              "    </tr>\n",
              "    <tr>\n",
              "      <th>7</th>\n",
              "      <td>14</td>\n",
              "      <td>1.1</td>\n",
              "      <td>59.2</td>\n",
              "      <td>62.6</td>\n",
              "      <td>840</td>\n",
              "      <td>60.90</td>\n",
              "    </tr>\n",
              "    <tr>\n",
              "      <th>8</th>\n",
              "      <td>16</td>\n",
              "      <td>1.2</td>\n",
              "      <td>57.6</td>\n",
              "      <td>60.9</td>\n",
              "      <td>960</td>\n",
              "      <td>59.25</td>\n",
              "    </tr>\n",
              "    <tr>\n",
              "      <th>9</th>\n",
              "      <td>18</td>\n",
              "      <td>1.6</td>\n",
              "      <td>54.8</td>\n",
              "      <td>58.1</td>\n",
              "      <td>1080</td>\n",
              "      <td>56.45</td>\n",
              "    </tr>\n",
              "    <tr>\n",
              "      <th>10</th>\n",
              "      <td>20</td>\n",
              "      <td>0.8</td>\n",
              "      <td>52.8</td>\n",
              "      <td>55.9</td>\n",
              "      <td>1200</td>\n",
              "      <td>54.35</td>\n",
              "    </tr>\n",
              "    <tr>\n",
              "      <th>11</th>\n",
              "      <td>22</td>\n",
              "      <td>0.9</td>\n",
              "      <td>50.9</td>\n",
              "      <td>53.9</td>\n",
              "      <td>1320</td>\n",
              "      <td>52.40</td>\n",
              "    </tr>\n",
              "    <tr>\n",
              "      <th>12</th>\n",
              "      <td>24</td>\n",
              "      <td>0.6</td>\n",
              "      <td>48.4</td>\n",
              "      <td>51.2</td>\n",
              "      <td>1440</td>\n",
              "      <td>49.80</td>\n",
              "    </tr>\n",
              "    <tr>\n",
              "      <th>13</th>\n",
              "      <td>26</td>\n",
              "      <td>0.8</td>\n",
              "      <td>46.3</td>\n",
              "      <td>49.3</td>\n",
              "      <td>1560</td>\n",
              "      <td>47.80</td>\n",
              "    </tr>\n",
              "    <tr>\n",
              "      <th>14</th>\n",
              "      <td>28</td>\n",
              "      <td>0.7</td>\n",
              "      <td>44.3</td>\n",
              "      <td>47.6</td>\n",
              "      <td>1680</td>\n",
              "      <td>45.95</td>\n",
              "    </tr>\n",
              "    <tr>\n",
              "      <th>15</th>\n",
              "      <td>30</td>\n",
              "      <td>0.6</td>\n",
              "      <td>42.8</td>\n",
              "      <td>45.6</td>\n",
              "      <td>1800</td>\n",
              "      <td>44.20</td>\n",
              "    </tr>\n",
              "  </tbody>\n",
              "</table>\n",
              "</div>"
            ],
            "text/plain": [
              "    Time (min)  Outside Temp (deg C)  ...  Time (s)  Inside Temp (deg C)\n",
              "0            0                   3.3  ...         0                85.60\n",
              "1            2                   1.1  ...       120                79.20\n",
              "2            4                   1.5  ...       240                76.00\n",
              "3            6                   1.4  ...       360                73.10\n",
              "4            8                   1.4  ...       480                70.70\n",
              "5           10                   1.4  ...       600                67.10\n",
              "6           12                   1.2  ...       720                64.20\n",
              "7           14                   1.1  ...       840                60.90\n",
              "8           16                   1.2  ...       960                59.25\n",
              "9           18                   1.6  ...      1080                56.45\n",
              "10          20                   0.8  ...      1200                54.35\n",
              "11          22                   0.9  ...      1320                52.40\n",
              "12          24                   0.6  ...      1440                49.80\n",
              "13          26                   0.8  ...      1560                47.80\n",
              "14          28                   0.7  ...      1680                45.95\n",
              "15          30                   0.6  ...      1800                44.20\n",
              "\n",
              "[16 rows x 6 columns]"
            ]
          },
          "metadata": {
            "tags": []
          },
          "execution_count": 29
        }
      ]
    },
    {
      "cell_type": "code",
      "metadata": {
        "id": "miCf5p1hfbZi"
      },
      "source": [
        "DeltaT0=df_transientflow.iloc[0,5]-df_transientflow.iloc[0,1]"
      ],
      "execution_count": 30,
      "outputs": []
    },
    {
      "cell_type": "code",
      "metadata": {
        "id": "DwDYNJs1hvrS"
      },
      "source": [
        "df_transientflow[\"Delta T (deg C)\"]=df_transientflow[\"Inside Temp (deg C)\"]-df_transientflow[\"Outside Temp (deg C)\"]"
      ],
      "execution_count": 31,
      "outputs": []
    },
    {
      "cell_type": "code",
      "metadata": {
        "id": "PePtPkNckIn4"
      },
      "source": [
        "df_transientflow[\"Ln(Delta T/Delta T0 )\"]=np.log(df_transientflow[\"Delta T (deg C)\"]/DeltaT0)"
      ],
      "execution_count": 32,
      "outputs": []
    },
    {
      "cell_type": "code",
      "metadata": {
        "id": "xvQHP9a8ljEG",
        "colab": {
          "base_uri": "https://localhost:8080/",
          "height": 111
        },
        "outputId": "5807635a-484d-4094-f798-b95073eaea6a"
      },
      "source": [
        "fitTable, fitFunc = buc.prettyPolyFit(df_transientflow['Time (s)'], df_transientflow[\"Ln(Delta T/Delta T0 )\"])\n",
        "fitTable\n"
      ],
      "execution_count": 33,
      "outputs": [
        {
          "output_type": "execute_result",
          "data": {
            "text/html": [
              "<div>\n",
              "<style scoped>\n",
              "    .dataframe tbody tr th:only-of-type {\n",
              "        vertical-align: middle;\n",
              "    }\n",
              "\n",
              "    .dataframe tbody tr th {\n",
              "        vertical-align: top;\n",
              "    }\n",
              "\n",
              "    .dataframe thead th {\n",
              "        text-align: right;\n",
              "    }\n",
              "</style>\n",
              "<table border=\"1\" class=\"dataframe\">\n",
              "  <thead>\n",
              "    <tr style=\"text-align: right;\">\n",
              "      <th></th>\n",
              "      <th>slope</th>\n",
              "      <th>intercept</th>\n",
              "    </tr>\n",
              "  </thead>\n",
              "  <tbody>\n",
              "    <tr>\n",
              "      <th>value</th>\n",
              "      <td>-0.000351</td>\n",
              "      <td>-0.011458</td>\n",
              "    </tr>\n",
              "    <tr>\n",
              "      <th>uncertainty</th>\n",
              "      <td>0.000007</td>\n",
              "      <td>0.007025</td>\n",
              "    </tr>\n",
              "  </tbody>\n",
              "</table>\n",
              "</div>"
            ],
            "text/plain": [
              "                slope  intercept\n",
              "value       -0.000351  -0.011458\n",
              "uncertainty  0.000007   0.007025"
            ]
          },
          "metadata": {
            "tags": []
          },
          "execution_count": 33
        }
      ]
    },
    {
      "cell_type": "code",
      "metadata": {
        "id": "aZ2sFGnTl9l9",
        "colab": {
          "base_uri": "https://localhost:8080/"
        },
        "outputId": "f6865a42-5304-49e0-d63d-fd591206885c"
      },
      "source": [
        "print(\"The slope is (%.5f ± %.6f) m/s\" % tuple(fitTable['slope']))\n",
        "print(\"The intercept is (%.3f ± %.3f) m\" % tuple(fitTable['intercept']))\n"
      ],
      "execution_count": 34,
      "outputs": [
        {
          "output_type": "stream",
          "text": [
            "The slope is (-0.00035 ± 0.000007) m/s\n",
            "The intercept is (-0.011 ± 0.007) m\n"
          ],
          "name": "stdout"
        }
      ]
    },
    {
      "cell_type": "code",
      "metadata": {
        "id": "8CThFmlblXAE",
        "colab": {
          "base_uri": "https://localhost:8080/",
          "height": 279
        },
        "outputId": "d1b8805e-ed01-4471-f6e7-e4bf2a51e0e6"
      },
      "source": [
        "fig, ax = plt.subplots()\n",
        "ax.plot(df_transientflow['Time (s)'], df_transientflow[\"Ln(Delta T/Delta T0 )\"], \"*\")\n",
        "ax.set_xlabel(\"Time (s)\");\n",
        "ax.set_ylabel(\"Ln(Delta T / Delta T0)\");\n",
        "t_fit = np.linspace(0,1800,2);\n",
        "ax.plot(t_fit, fitFunc(t_fit));"
      ],
      "execution_count": 35,
      "outputs": [
        {
          "output_type": "display_data",
          "data": {
            "image/png": "[encoded data removed]",
            "text/plain": [
              "<Figure size 432x288 with 1 Axes>"
            ]
          },
          "metadata": {
            "tags": [],
            "needs_background": "light"
          }
        }
      ]
    },
    {
      "cell_type": "code",
      "metadata": {
        "id": "jBGUs2kI6rxh"
      },
      "source": [
        "c=4.2\n",
        "rr=np.log(r_outinit/r_out)"
      ],
      "execution_count": 36,
      "outputs": []
    },
    {
      "cell_type": "code",
      "metadata": {
        "id": "2oiKTRTVl29W",
        "outputId": "fa518686-8aa6-4a04-a758-c0663ee99b21",
        "colab": {
          "base_uri": "https://localhost:8080/",
          "height": 35
        }
      },
      "source": [
        "k=(-1*fitTable.loc['value','slope']*(Water*c*rr))/(2*math.pi*fillline)\n",
        "format(k, '.4f') "
      ],
      "execution_count": 53,
      "outputs": [
        {
          "output_type": "execute_result",
          "data": {
            "application/vnd.google.colaboratory.intrinsic+json": {
              "type": "string"
            },
            "text/plain": [
              "'0.0361'"
            ]
          },
          "metadata": {
            "tags": []
          },
          "execution_count": 53
        }
      ]
    },
    {
      "cell_type": "code",
      "metadata": {
        "id": "H3AkFp2W9mkd",
        "outputId": "3c31d9f1-01cf-45dd-a007-7d555f9ce2a2",
        "colab": {
          "base_uri": "https://localhost:8080/",
          "height": 35
        }
      },
      "source": [
        "kcorrect=0.035\n",
        "PercentError=np.abs((kcorrect-k)/kcorrect)*100\n",
        "format(PercentError, '.2f') "
      ],
      "execution_count": 55,
      "outputs": [
        {
          "output_type": "execute_result",
          "data": {
            "application/vnd.google.colaboratory.intrinsic+json": {
              "type": "string"
            },
            "text/plain": [
              "'3.28'"
            ]
          },
          "metadata": {
            "tags": []
          },
          "execution_count": 55
        }
      ]
    },
    {
      "cell_type": "markdown",
      "metadata": {
        "id": "CZQ3zaXY-ctT"
      },
      "source": [
        "Since the value was calculated at approximately 0.036 and the reference value is 0.035 with a range of 0.002. The value found falls within that range of uncertainty. "
      ]
    },
    {
      "cell_type": "code",
      "metadata": {
        "id": "uUaS5_LX-DUT"
      },
      "source": [
        ""
      ],
      "execution_count": null,
      "outputs": []
    }
  ]
}